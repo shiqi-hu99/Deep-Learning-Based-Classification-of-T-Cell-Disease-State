{
  "cells": [
    {
      "cell_type": "code",
      "execution_count": 1,
      "metadata": {
        "id": "bNz2JTX2Ohkj",
        "colab": {
          "base_uri": "https://localhost:8080/"
        },
        "outputId": "32f1227d-ae3b-40dd-d063-bd71a52ef649"
      },
      "outputs": [
        {
          "output_type": "stream",
          "name": "stdout",
          "text": [
            "Looking in indexes: https://pypi.org/simple, https://us-python.pkg.dev/colab-wheels/public/simple/\n",
            "Collecting timm\n",
            "  Downloading timm-0.6.13-py3-none-any.whl (549 kB)\n",
            "\u001b[2K     \u001b[90m━━━━━━━━━━━━━━━━━━━━━━━━━━━━━━━━━━━━━━\u001b[0m \u001b[32m549.1/549.1 KB\u001b[0m \u001b[31m10.5 MB/s\u001b[0m eta \u001b[36m0:00:00\u001b[0m\n",
            "\u001b[?25hRequirement already satisfied: torch>=1.7 in /usr/local/lib/python3.9/dist-packages (from timm) (1.13.1+cu116)\n",
            "Requirement already satisfied: pyyaml in /usr/local/lib/python3.9/dist-packages (from timm) (6.0)\n",
            "Requirement already satisfied: torchvision in /usr/local/lib/python3.9/dist-packages (from timm) (0.14.1+cu116)\n",
            "Collecting huggingface-hub\n",
            "  Downloading huggingface_hub-0.13.3-py3-none-any.whl (199 kB)\n",
            "\u001b[2K     \u001b[90m━━━━━━━━━━━━━━━━━━━━━━━━━━━━━━━━━━━━━━\u001b[0m \u001b[32m199.8/199.8 KB\u001b[0m \u001b[31m12.8 MB/s\u001b[0m eta \u001b[36m0:00:00\u001b[0m\n",
            "\u001b[?25hRequirement already satisfied: typing-extensions in /usr/local/lib/python3.9/dist-packages (from torch>=1.7->timm) (4.5.0)\n",
            "Requirement already satisfied: requests in /usr/local/lib/python3.9/dist-packages (from huggingface-hub->timm) (2.27.1)\n",
            "Requirement already satisfied: tqdm>=4.42.1 in /usr/local/lib/python3.9/dist-packages (from huggingface-hub->timm) (4.65.0)\n",
            "Requirement already satisfied: packaging>=20.9 in /usr/local/lib/python3.9/dist-packages (from huggingface-hub->timm) (23.0)\n",
            "Requirement already satisfied: filelock in /usr/local/lib/python3.9/dist-packages (from huggingface-hub->timm) (3.10.2)\n",
            "Requirement already satisfied: numpy in /usr/local/lib/python3.9/dist-packages (from torchvision->timm) (1.22.4)\n",
            "Requirement already satisfied: pillow!=8.3.*,>=5.3.0 in /usr/local/lib/python3.9/dist-packages (from torchvision->timm) (8.4.0)\n",
            "Requirement already satisfied: idna<4,>=2.5 in /usr/local/lib/python3.9/dist-packages (from requests->huggingface-hub->timm) (3.4)\n",
            "Requirement already satisfied: certifi>=2017.4.17 in /usr/local/lib/python3.9/dist-packages (from requests->huggingface-hub->timm) (2022.12.7)\n",
            "Requirement already satisfied: urllib3<1.27,>=1.21.1 in /usr/local/lib/python3.9/dist-packages (from requests->huggingface-hub->timm) (1.26.15)\n",
            "Requirement already satisfied: charset-normalizer~=2.0.0 in /usr/local/lib/python3.9/dist-packages (from requests->huggingface-hub->timm) (2.0.12)\n",
            "Installing collected packages: huggingface-hub, timm\n",
            "Successfully installed huggingface-hub-0.13.3 timm-0.6.13\n"
          ]
        }
      ],
      "source": [
        "import torch\n",
        "import torchvision\n",
        "from torchvision import datasets\n",
        "from torchvision import transforms as T # for simplifying the transforms\n",
        "from torch import nn, optim\n",
        "from torch.nn import functional as F\n",
        "from torch.utils.data import DataLoader, SubsetRandomSampler, random_split, Dataset\n",
        "from torchvision import models\n",
        "import numpy as np # linear algebra\n",
        "import pandas as pd # data processing, CSV file I/O (e.g. pd.read_csv)\n",
        "import os\n",
        "import matplotlib.pyplot as plt\n",
        "from glob import glob\n",
        "import cv2\n",
        "import sys\n",
        "!pip install timm\n",
        "import timm\n",
        "import tqdm\n",
        "from torchvision import datasets\n",
        "import random\n",
        "import math\n",
        "from PIL import Image                                 \n",
        "import torchvision.transforms.functional as TF        \n",
        "from timm.models.layers import to_2tuple\n",
        "import pandas as pd\n",
        "from sklearn.metrics import roc_curve, auc, roc_auc_score"
      ]
    },
    {
      "cell_type": "code",
      "execution_count": 2,
      "metadata": {
        "id": "0mWFEhRyKqap"
      },
      "outputs": [],
      "source": [
        "# # If have more than 1 GPU and need to specify which GPU to use\n",
        "\n",
        "# torch.cuda.set_device(0)\n",
        "# print('__Python VERSION:', sys.version)\n",
        "# print('__pyTorch VERSION:', torch.__version__)\n",
        "# print('__CUDA VERSION')\n",
        "# from subprocess import call\n",
        "# # call([\"nvcc\", \"--version\"]) does not work\n",
        "# ! nvcc --version\n",
        "# print('__CUDNN VERSION:', torch.backends.cudnn.version())\n",
        "# print('__Number CUDA Devices:', torch.cuda.device_count())\n",
        "# print('__Devices')\n",
        "# call([\"nvidia-smi\", \"--format=csv\", \"--query-gpu=index,name,driver_version,memory.total,memory.used,memory.free\"])\n",
        "# print('Active CUDA Device: GPU', torch.cuda.current_device())\n",
        "# print ('Available devices ', torch.cuda.device_count())\n",
        "# print ('Current cuda device ', torch.cuda.current_device())"
      ]
    },
    {
      "cell_type": "markdown",
      "metadata": {
        "id": "eVi7ni_Y0y0L"
      },
      "source": [
        "Define custom dataset"
      ]
    },
    {
      "cell_type": "code",
      "source": [
        "#Mount to Google Drive\n",
        "from google.colab import drive\n",
        "drive.mount('/content/drive')"
      ],
      "metadata": {
        "colab": {
          "base_uri": "https://localhost:8080/"
        },
        "id": "7tNtAm46LAfM",
        "outputId": "9e8cffb1-fb3f-44a7-b83d-39ee95e30903"
      },
      "execution_count": 3,
      "outputs": [
        {
          "output_type": "stream",
          "name": "stdout",
          "text": [
            "Mounted at /content/drive\n"
          ]
        }
      ]
    },
    {
      "cell_type": "markdown",
      "source": [
        "Find the mean and std of each dataset (for later normalization purpose)"
      ],
      "metadata": {
        "id": "C-F87wgvh54D"
      }
    },
    {
      "cell_type": "code",
      "execution_count": 4,
      "metadata": {
        "id": "dnYk6SVq6528"
      },
      "outputs": [],
      "source": [
        "\n",
        "first_transform = T.Compose([\n",
        "      T.Resize((224, 224)),\n",
        "      T.ToTensor(),\n",
        "  ])\n"
      ]
    },
    {
      "cell_type": "code",
      "execution_count": 5,
      "metadata": {
        "id": "LswSd39kB8yt"
      },
      "outputs": [],
      "source": [
        "# import torchvision.datasets.ImageFolder\n",
        "# IMG_PATH = '/content/drive/MyDrive/DL-T Cell Segmentatiom/tr_val_test_1donor/'\n",
        "# IMG_PATH = '/content/drive/MyDrive/DL-T Cell Segmentatiom/tr_val_test_2donor/'\n",
        "IMG_PATH = '/content/drive/MyDrive/DL-T Cell Segmentatiom/tr_val_test_bbox/'\n",
        "\n",
        "root_tr = IMG_PATH + 'train/'\n",
        "root_val = IMG_PATH + 'val/'\n",
        "root_test = IMG_PATH + 'test/'"
      ]
    },
    {
      "cell_type": "code",
      "execution_count": 6,
      "metadata": {
        "id": "O1-pXKtEmqIF"
      },
      "outputs": [],
      "source": [
        "class patch_dataset(Dataset):\n",
        "    def __init__(self, root_dir, transform):\n",
        "\n",
        "        # self\n",
        "        self.root_dir = root_dir\n",
        "        self.path_hc = glob(os.path.join(self.root_dir+ '/0/*.jpg'))\n",
        "        self.path_lk = glob(os.path.join(self.root_dir+ '/1/*.jpg'))\n",
        "        self.img_path_list = self.path_hc + self.path_lk\n",
        "        self.transform = transform\n",
        "        self.identity = np.array(range(len(self.img_path_list)), dtype=str)\n",
        "\n",
        "    def __getitem__(self, idx:int):\n",
        "\n",
        "        img_name = self.img_path_list[idx]\n",
        "        current_name = img_name.split('/')[-1]\n",
        "        img = cv2.imread(img_name, cv2.IMREAD_COLOR)\n",
        "        img = cv2.cvtColor(img, cv2.COLOR_BGR2RGB)\n",
        "        # img = np.transpose(img, (2, 0, 1))\n",
        "        \n",
        "        if self.transform is not None:\n",
        "          img = self.transform(img)\n",
        "\n",
        "        if current_name.split('_')[0][0] == 'H':\n",
        "          label = 0\n",
        "        else:\n",
        "          label = 1\n",
        "        sample = {'image': img, 'label':torch.tensor(label, dtype=torch.int8), 'idx': idx }\n",
        "        \n",
        "        return sample \n",
        "\n",
        "    def __len__(self):\n",
        "        return len(self.img_path_list)"
      ]
    },
    {
      "cell_type": "code",
      "execution_count": 7,
      "metadata": {
        "id": "lRFv1d2gANf9"
      },
      "outputs": [],
      "source": [
        "train_dataset = torchvision.datasets.ImageFolder(root = root_tr, transform = first_transform)\n",
        "valid_dataset = torchvision.datasets.ImageFolder(root = root_val, transform = first_transform)\n",
        "trainloader = torch.utils.data.DataLoader(train_dataset, batch_size=len(train_dataset), num_workers=2)\n",
        "validloader = torch.utils.data.DataLoader(valid_dataset, batch_size=len(valid_dataset), num_workers=2)\n",
        "test_dataset = torchvision.datasets.ImageFolder(root = root_test, transform = first_transform)\n",
        "testloader = torch.utils.data.DataLoader(test_dataset, batch_size=len(test_dataset), num_workers =2)"
      ]
    },
    {
      "cell_type": "code",
      "execution_count": 8,
      "metadata": {
        "id": "Ieos1RZmBCRK"
      },
      "outputs": [],
      "source": [
        "# for i in range(len(trainloader)):\n",
        "\n",
        "#   data = next(iter(trainloader))\n",
        "  \n",
        "#   print((data[0]).shape)\n",
        "\n",
        "#   R = torch.mean(data[0]), torch.std(data[0])\n",
        "\n",
        "#   break\n",
        "# print(R)"
      ]
    },
    {
      "cell_type": "code",
      "execution_count": 9,
      "metadata": {
        "id": "LOV2w8PBBV96"
      },
      "outputs": [],
      "source": [
        "# for i in range(len(validloader)):\n",
        "#   data = next(iter(validloader))\n",
        "#   print((data[0]).shape)\n",
        "#   bb = data[0].mean(), data[0].std()\n",
        "#   break\n",
        "# print(bb)"
      ]
    },
    {
      "cell_type": "code",
      "execution_count": 10,
      "metadata": {
        "id": "Cb0Ddje8Kqa3"
      },
      "outputs": [],
      "source": [
        "# for i in range(len(testloader)):\n",
        "#   data = next(iter(testloader))\n",
        "#   print((data[0]).shape)\n",
        "#   bb = data[0].mean(), data[0].std()\n",
        "#   break\n",
        "# print(bb)"
      ]
    },
    {
      "cell_type": "markdown",
      "source": [
        "Now define the train/val/test transform with pre-calculated mean and std in each dataset"
      ],
      "metadata": {
        "id": "wueLBt2kiElk"
      }
    },
    {
      "cell_type": "code",
      "execution_count": 11,
      "metadata": {
        "id": "9wQm2yuc79Fc"
      },
      "outputs": [],
      "source": [
        "test_transform = T.Compose([\n",
        "      T.ToPILImage(), \n",
        "      T.ToTensor(),\n",
        "      T.Normalize(0.0546, 0.1130),\n",
        "  ])\n",
        "\n",
        "val_transform = T.Compose([\n",
        "      T.ToPILImage(),\n",
        "      T.ToTensor(),\n",
        "      T.Normalize(0.0563, 0.1224),\n",
        "  ])\n",
        "\n",
        "train_transform = T.Compose([\n",
        "    T.ToPILImage(),\n",
        "    T.RandomHorizontalFlip(),\n",
        "    T.RandomVerticalFlip(),  \n",
        "    T.ToTensor(),\n",
        "    T.Normalize(0.0452, 0.1023),\n",
        "])"
      ]
    },
    {
      "cell_type": "code",
      "execution_count": 12,
      "metadata": {
        "id": "U3_Scb_4HO8w"
      },
      "outputs": [],
      "source": [
        "try_dataset = patch_dataset(root_val, val_transform)"
      ]
    },
    {
      "cell_type": "code",
      "execution_count": 13,
      "metadata": {
        "colab": {
          "base_uri": "https://localhost:8080/",
          "height": 356
        },
        "id": "VAkAqIXk21q1",
        "outputId": "0804094a-5f88-405e-dae7-9e3c6656c1e7"
      },
      "outputs": [
        {
          "output_type": "stream",
          "name": "stderr",
          "text": [
            "WARNING:matplotlib.image:Clipping input data to the valid range for imshow with RGB data ([0..1] for floats or [0..255] for integers).\n"
          ]
        },
        {
          "output_type": "stream",
          "name": "stdout",
          "text": [
            "(224, 224, 3)\n",
            "(224, 224, 3)\n",
            "label tensor(0, dtype=torch.int8)\n",
            "identity 100\n"
          ]
        },
        {
          "output_type": "display_data",
          "data": {
            "text/plain": [
              "<Figure size 432x288 with 1 Axes>"
            ],
            "image/png": "[encoded data removed]"
          },
          "metadata": {
            "needs_background": "light"
          }
        }
      ],
      "source": [
        "batch = try_dataset.__getitem__(100)\n",
        "img = batch['image'].numpy()\n",
        "img = img\n",
        "img = np.transpose(img, (1,2,0))\n",
        "print(img.shape)\n",
        "label = batch['label']\n",
        "print(img.shape)\n",
        "plt.imshow(img)\n",
        "print('label',label)\n",
        "print('identity', batch['idx'])"
      ]
    },
    {
      "cell_type": "code",
      "execution_count": 14,
      "metadata": {
        "id": "sib2v1kMdSFa"
      },
      "outputs": [],
      "source": [
        "# print(train_filenames[100])"
      ]
    },
    {
      "cell_type": "code",
      "execution_count": 15,
      "metadata": {
        "id": "1J53M5AlTMUh",
        "colab": {
          "base_uri": "https://localhost:8080/",
          "height": 428
        },
        "outputId": "e93c0374-9ac5-4a82-ee70-f4ca65d10d2f"
      },
      "outputs": [
        {
          "output_type": "display_data",
          "data": {
            "text/plain": [
              "<Figure size 720x504 with 1 Axes>"
            ],
            "image/png": "[encoded data removed]"
          },
          "metadata": {
            "needs_background": "light"
          }
        }
      ],
      "source": [
        "fig, ax = plt.subplots(figsize =(10, 7))\n",
        "ax.hist(img[:,:,0])\n",
        " \n",
        "# Show plot\n",
        "# fig, ax = plt.subplots(figsize =(10, 7))\n",
        "# ax.hist(img[:,:,1])\n",
        "plt.show()"
      ]
    },
    {
      "cell_type": "code",
      "execution_count": 16,
      "metadata": {
        "colab": {
          "base_uri": "https://localhost:8080/"
        },
        "id": "0hqIAFZ5FWIm",
        "outputId": "b9be0a85-ca9e-4a90-9f0b-a46371daebca"
      },
      "outputs": [
        {
          "output_type": "stream",
          "name": "stdout",
          "text": [
            "1 has 300 imgs\n",
            "0 has 300 imgs\n",
            "\n",
            "\n",
            "600\n"
          ]
        }
      ],
      "source": [
        "def number_of_imgs(path):\n",
        "  \n",
        "  class_num = []\n",
        "  for value in os.listdir(path):\n",
        "    total_num = 0\n",
        "    print(value, \"has\", len(os.listdir(path + value)), \"imgs\")\n",
        "    total_num = total_num + len(os.listdir(path + value))\n",
        "    class_num.append(total_num)\n",
        "  print('\\n')\n",
        "  return sum(class_num)\n",
        "    \n",
        "    \n",
        "\n",
        "ratio = number_of_imgs(root_tr)\n",
        "\n",
        "print(ratio)\n",
        "# print(val_num)"
      ]
    },
    {
      "cell_type": "code",
      "execution_count": 17,
      "metadata": {
        "id": "BMoL4Zt_4qtO"
      },
      "outputs": [],
      "source": [
        "\n",
        "HUB_URL = \"SharanSMenon/swin-transformer-hub:main\"\n",
        "MODEL_NAME = \"swin_tiny_patch4_window7_224\"\n",
        "# check hubconf for more models.\n"
      ]
    },
    {
      "cell_type": "code",
      "execution_count": 23,
      "metadata": {
        "colab": {
          "base_uri": "https://localhost:8080/"
        },
        "id": "EYtB8fi85TEO",
        "outputId": "11969e73-5118-4a13-c366-d4225403bef0",
        "scrolled": true
      },
      "outputs": [
        {
          "output_type": "stream",
          "name": "stderr",
          "text": [
            "Using cache found in /root/.cache/torch/hub/SharanSMenon_swin-transformer-hub_main\n"
          ]
        },
        {
          "output_type": "stream",
          "name": "stdout",
          "text": [
            "Sequential(\n",
            "  (0): Linear(in_features=768, out_features=64, bias=True)\n",
            "  (1): ReLU()\n",
            "  (2): Dropout(p=0.5, inplace=False)\n",
            "  (3): Linear(in_features=64, out_features=1, bias=True)\n",
            "  (4): Sigmoid()\n",
            ")\n"
          ]
        }
      ],
      "source": [
        "device = torch.device('cuda' if torch.cuda.is_available() else 'cpu')\n",
        "num_classes = 1\n",
        "model = torch.hub.load(HUB_URL, MODEL_NAME, pretrained=True) # load from torch hub\n",
        "\n",
        "# If you would like to play around with the partially freeze model, note: the defualt setting is free\n",
        "# for param in model.parameters(): #freeze model\n",
        "#     param.requires_grad = False\n",
        "\n",
        "n_inputs = model.head.in_features\n",
        "model.head = nn.Sequential(\n",
        "    nn.Linear(n_inputs, 64),\n",
        "    nn.ReLU(),\n",
        "    nn.Dropout(0.5),\n",
        "#     nn.Linear(256, 128),\n",
        "#     nn.ReLU(),\n",
        "#     nn.Dropout(0.5),\n",
        "    nn.Linear(64, 1),\n",
        "    nn.Sigmoid()    \n",
        ")\n",
        "print(model.head)\n",
        "model = model.to(device)\n"
      ]
    },
    {
      "cell_type": "code",
      "execution_count": 24,
      "metadata": {
        "id": "8ijuzSZN0Fjp"
      },
      "outputs": [],
      "source": [
        "optimizer = optim.Adam(model.parameters(), lr=1e-6)\n",
        "num_epochs = 40"
      ]
    },
    {
      "cell_type": "code",
      "execution_count": 25,
      "metadata": {
        "id": "0TP-Kod3Kqa_"
      },
      "outputs": [],
      "source": [
        "# change the path according to your path\n",
        "# IMG_PATH = '/media/sail/HDD14T/BME_Grad_Project/Xin and Shiqi/all_dataset/'\n",
        "# IMG_PATH = '/content/drive/MyDrive/DL-T Cell Segmentatiom/tr_val_test_1donor/'\n",
        "# IMG_PATH = '/content/drive/MyDrive/DL-T Cell Segmentatiom/tr_val_test_2donor/'\n",
        "IMG_PATH = '/content/drive/MyDrive/DL-T Cell Segmentatiom/tr_val_test_bbox/'\n",
        "# root_tr = IMG_PATH +'train/'\n",
        "# root_val = IMG_PATH + 'val/'\n",
        "root_tr = IMG_PATH +'val/'\n",
        "root_val = IMG_PATH + 'train/'\n",
        "root_test = IMG_PATH + 'test/'\n",
        "bs = 32\n",
        "\n",
        "train_dataset = patch_dataset(root_dir = root_tr, transform = train_transform)\n",
        "valid_dataset = patch_dataset(root_dir = root_val, transform = test_transform)\n",
        "test_dataset = patch_dataset(root_dir = root_test, transform = test_transform)\n",
        "\n",
        "trainloader = torch.utils.data.DataLoader(train_dataset, batch_size=bs, num_workers=2, shuffle = True)\n",
        "validloader = torch.utils.data.DataLoader(valid_dataset, batch_size=bs, num_workers=2, shuffle = True)\n",
        "testloader = torch.utils.data.DataLoader(test_dataset, batch_size=bs, num_workers=2, shuffle = True)\n",
        "\n",
        "train_filenames = glob(os.path.join(root_tr + '/0/*.jpg')) + glob(os.path.join(root_tr + '/1/*.jpg'))\n",
        "valid_filenames = glob(os.path.join(root_val + '/0/*.jpg')) + glob(os.path.join(root_val + '/1/*.jpg'))\n",
        "test_filenames = glob(os.path.join(root_test + '/0/*.jpg')) + glob(os.path.join(root_test + '/1/*.jpg'))\n"
      ]
    },
    {
      "cell_type": "code",
      "execution_count": 26,
      "metadata": {
        "id": "JterYgEjvi2Z",
        "scrolled": false
      },
      "outputs": [],
      "source": [
        "\n",
        "\n",
        "# Define the K-fold Cross Validator\n",
        "kfold = 1\n",
        "train_acc = []\n",
        "train_result = []\n",
        "valid_acc = []\n",
        "valid_result = []\n",
        "bs =bs\n",
        "\n",
        "\n",
        "patience = 2\n",
        "\n",
        "\n",
        "def train_net(patience, number_id):\n",
        "    \n",
        "    trigger_times = 0\n",
        "    \n",
        "    # Start print\n",
        "    print('--------------------------------')\n",
        "\n",
        "   \n",
        "    print('--------------------------------')\n",
        "\n",
        "#       IMG_PATH = '/media/sail/HDD14T/BME_Grad_Project/Xin and Shiqi/CV' + str(number_id) + '_multiplied/'\n",
        "\n",
        "\n",
        "    n_train = len(trainloader)\n",
        "    n_valid = len(validloader)    \n",
        "\n",
        "    train_accuracy = list()\n",
        "    train_loss = list()\n",
        "    valid_loss = list()\n",
        "    valid_accuracy = list()\n",
        "\n",
        "    loss_function = nn.BCELoss().to(device)\n",
        "\n",
        "\n",
        "    # Run the training loop for defined number of epochs\n",
        "    for epoch in range(0, num_epochs):\n",
        "\n",
        "        # Print epoch\n",
        "        print(f'Starting epoch {epoch+1}')\n",
        "        model.train()\n",
        "        train_batch_loss = list()\n",
        "        train_batch_accuracy = list()\n",
        "        \n",
        "        # Iterate over the DataLoader for training data\n",
        "        for i, batch in enumerate(trainloader):\n",
        "                train_correct = 0\n",
        "                train_total = 0\n",
        "\n",
        "                inputs = batch['image'].to(device)\n",
        "                labels = batch['label'].float().view(inputs.size(0), 1).to(device)\n",
        "\n",
        "                outputs = model(inputs)\n",
        "\n",
        "                pred_binary = (outputs > 0.5)\n",
        "\n",
        "                # Compute loss\n",
        "                loss = loss_function(outputs, labels)\n",
        "\n",
        "                train_correct = train_correct + (pred_binary == labels).sum().item()\n",
        "                train_total = train_total + labels.size(0)\n",
        "\n",
        "                # Zero the gradients\n",
        "                optimizer.zero_grad()\n",
        "\n",
        "                # Perform backward pass\n",
        "                loss.backward()\n",
        "\n",
        "                # Perform optimization\n",
        "                optimizer.step()\n",
        "                # exp_lr_scheduler.step()\n",
        "\n",
        "              # Print statistics\n",
        "                batch_loss = loss.item()\n",
        "                train_batch_loss.append(batch_loss)\n",
        "                train_batch_accuracy.append(train_correct/train_total)\n",
        "\n",
        "        epoch_train_loss = np.array(train_batch_loss).mean()\n",
        "        train_loss.append(epoch_train_loss)\n",
        "        epoch_train_accuracy = np.array(train_batch_accuracy).mean()\n",
        "        train_accuracy.append(epoch_train_accuracy)\n",
        "\n",
        "        model.eval()\n",
        "        valid_batch_loss = list()\n",
        "        valid_batch_accuracy = list()\n",
        "        \n",
        "        with torch.set_grad_enabled(False):\n",
        "\n",
        "            # Iterate over the test data and generate predictions\n",
        "                for i, batch in enumerate(validloader):\n",
        "                    valid_correct = 0\n",
        "                    valid_total = 0\n",
        "\n",
        "                    inputs = batch['image'].to(device)\n",
        "                    labels = batch['label'].float().view(inputs.size(0),1).to(device)\n",
        "\n",
        "\n",
        "                    outputs = model(inputs)\n",
        "\n",
        "                    pred_binary = (outputs > 0.5)\n",
        "\n",
        "                    loss = loss_function(outputs, labels)\n",
        "                    # print('loss', loss)\n",
        "                    valid_correct = valid_correct + (pred_binary == labels).sum().item()\n",
        "                    valid_total = valid_total + labels.size(0)\n",
        "\n",
        "                    batch_loss = loss.item()\n",
        "                    valid_batch_loss.append(batch_loss)\n",
        "\n",
        "                    valid_batch_accuracy.append(valid_correct/valid_total)\n",
        "\n",
        "\n",
        "\n",
        "                epoch_valid_loss = np.array(valid_batch_loss).mean()\n",
        "                valid_loss.append(epoch_valid_loss)\n",
        "                epoch_valid_accuracy = np.array(valid_batch_accuracy).mean()\n",
        "                valid_accuracy.append(epoch_valid_accuracy)\n",
        "\n",
        "        print(f'EPOCH {epoch + 1}/{num_epochs} - Training Loss: {epoch_train_loss} - Training Accuracy: {epoch_train_accuracy} - Validation Loss: {epoch_valid_loss} - Validation Accuracy: {epoch_valid_accuracy}')  \n",
        "        # torch.save(model.state_dict(), f'/content/drive/MyDrive/DL-T Cell Segmentatiom/saved_model/epoch_{epoch+1:03}.pth')\n",
        "        # torch.save(model.state_dict(), f'/content/drive/MyDrive/DL-T Cell Segmentatiom/saved_model_28th/epoch_{epoch+1:03}.pth')\n",
        "        torch.save(model.state_dict(), f'/content/drive/MyDrive/DL-T Cell Segmentatiom/saved_model_bbox/epoch_{epoch+1:03}.pth')\n",
        "#         if epoch > 3:\n",
        "#             if valid_accuracy[-1] - valid_accuracy[-2] > 0:\n",
        "#                 trigger_times += 1\n",
        "#             print('Trigger Times:', trigger_times)\n",
        "\n",
        "#         if trigger_times >= patience:\n",
        "#             print('Early stopping!\\nStart to test process.')\n",
        "#             break\n",
        "\n",
        "\n",
        "    print('--------------------------------')\n",
        "\n",
        "    return train_loss, train_accuracy, valid_loss, valid_accuracy, train_filenames, valid_filenames"
      ]
    },
    {
      "cell_type": "code",
      "execution_count": 27,
      "metadata": {
        "scrolled": true,
        "colab": {
          "base_uri": "https://localhost:8080/"
        },
        "id": "RiSs75-LKqbB",
        "outputId": "730ae9da-3092-450d-b7f7-a6f434ce8a98"
      },
      "outputs": [
        {
          "output_type": "stream",
          "name": "stdout",
          "text": [
            "--------------------------------\n",
            "--------------------------------\n",
            "Starting epoch 1\n",
            "EPOCH 1/40 - Training Loss: 0.6931992965809842 - Training Accuracy: 0.5182845744680851 - Validation Loss: 0.6937260967493057 - Validation Accuracy: 0.5153125\n",
            "Starting epoch 2\n",
            "EPOCH 2/40 - Training Loss: 0.6901319134742656 - Training Accuracy: 0.5251551418439716 - Validation Loss: 0.6851551932096481 - Validation Accuracy: 0.5890625\n",
            "Starting epoch 3\n",
            "EPOCH 3/40 - Training Loss: 0.6862027404156137 - Training Accuracy: 0.5561835106382979 - Validation Loss: 0.6834774577617645 - Validation Accuracy: 0.580625\n",
            "Starting epoch 4\n",
            "EPOCH 4/40 - Training Loss: 0.6803429602308476 - Training Accuracy: 0.5841090425531915 - Validation Loss: 0.6795655739307404 - Validation Accuracy: 0.5946875\n",
            "Starting epoch 5\n",
            "EPOCH 5/40 - Training Loss: 0.6723957550018391 - Training Accuracy: 0.6163563829787234 - Validation Loss: 0.6741853243112564 - Validation Accuracy: 0.6159375\n",
            "Starting epoch 6\n",
            "EPOCH 6/40 - Training Loss: 0.6543909114726046 - Training Accuracy: 0.6581338652482269 - Validation Loss: 0.6729697096347809 - Validation Accuracy: 0.621875\n",
            "Starting epoch 7\n",
            "EPOCH 7/40 - Training Loss: 0.6157653959507637 - Training Accuracy: 0.7105496453900709 - Validation Loss: 0.6718046075105667 - Validation Accuracy: 0.6471875\n",
            "Starting epoch 8\n",
            "EPOCH 8/40 - Training Loss: 0.5459805701641326 - Training Accuracy: 0.7919991134751774 - Validation Loss: 0.682702648639679 - Validation Accuracy: 0.70125\n",
            "Starting epoch 9\n",
            "EPOCH 9/40 - Training Loss: 0.43422755725840306 - Training Accuracy: 0.8667996453900709 - Validation Loss: 0.7008072030544281 - Validation Accuracy: 0.721875\n",
            "Starting epoch 10\n",
            "EPOCH 10/40 - Training Loss: 0.3235312649544249 - Training Accuracy: 0.9076906028368795 - Validation Loss: 0.6824131727218627 - Validation Accuracy: 0.7575\n",
            "Starting epoch 11\n",
            "EPOCH 11/40 - Training Loss: 0.25291317019690857 - Training Accuracy: 0.9271941489361702 - Validation Loss: 0.6263389578461647 - Validation Accuracy: 0.78875\n",
            "Starting epoch 12\n",
            "EPOCH 12/40 - Training Loss: 0.21110202768381606 - Training Accuracy: 0.9370567375886524 - Validation Loss: 0.775073166191578 - Validation Accuracy: 0.7571875\n",
            "Starting epoch 13\n",
            "EPOCH 13/40 - Training Loss: 0.18298511801564948 - Training Accuracy: 0.9451462765957447 - Validation Loss: 0.6714325988292694 - Validation Accuracy: 0.7875\n",
            "Starting epoch 14\n",
            "EPOCH 14/40 - Training Loss: 0.16298499235764463 - Training Accuracy: 0.9483599290780141 - Validation Loss: 0.7798964877426624 - Validation Accuracy: 0.7725\n",
            "Starting epoch 15\n",
            "EPOCH 15/40 - Training Loss: 0.15727467712094176 - Training Accuracy: 0.9507978723404256 - Validation Loss: 0.7740668296813965 - Validation Accuracy: 0.780625\n",
            "Starting epoch 16\n",
            "EPOCH 16/40 - Training Loss: 0.13830424104123673 - Training Accuracy: 0.9589982269503545 - Validation Loss: 0.7659349122643471 - Validation Accuracy: 0.7871875\n",
            "Starting epoch 17\n",
            "EPOCH 17/40 - Training Loss: 0.13455287497886953 - Training Accuracy: 0.9563386524822695 - Validation Loss: 0.7599479241669178 - Validation Accuracy: 0.793125\n",
            "Starting epoch 18\n",
            "EPOCH 18/40 - Training Loss: 0.12368958173914159 - Training Accuracy: 0.9636524822695035 - Validation Loss: 0.7573931750655174 - Validation Accuracy: 0.7934375\n",
            "Starting epoch 19\n",
            "EPOCH 19/40 - Training Loss: 0.11645931294782365 - Training Accuracy: 0.9691932624113476 - Validation Loss: 0.815322565883398 - Validation Accuracy: 0.7871875\n",
            "Starting epoch 20\n",
            "EPOCH 20/40 - Training Loss: 0.11200662609189749 - Training Accuracy: 0.967863475177305 - Validation Loss: 0.7677121256291867 - Validation Accuracy: 0.799375\n",
            "Starting epoch 21\n",
            "EPOCH 21/40 - Training Loss: 0.10450428242775354 - Training Accuracy: 0.9710771276595744 - Validation Loss: 0.683165575414896 - Validation Accuracy: 0.8178125\n",
            "Starting epoch 22\n",
            "EPOCH 22/40 - Training Loss: 0.10012512150755588 - Training Accuracy: 0.9707446808510638 - Validation Loss: 0.8388931009173394 - Validation Accuracy: 0.790625\n",
            "Starting epoch 23\n",
            "EPOCH 23/40 - Training Loss: 0.0995564018078941 - Training Accuracy: 0.9727393617021277 - Validation Loss: 0.9006025367975234 - Validation Accuracy: 0.77875\n",
            "Starting epoch 24\n",
            "EPOCH 24/40 - Training Loss: 0.08912336721302981 - Training Accuracy: 0.9773936170212766 - Validation Loss: 0.715437852665782 - Validation Accuracy: 0.818125\n",
            "Starting epoch 25\n",
            "EPOCH 25/40 - Training Loss: 0.0876774709632105 - Training Accuracy: 0.9740691489361702 - Validation Loss: 0.8034043702483177 - Validation Accuracy: 0.8065625\n",
            "Starting epoch 26\n",
            "EPOCH 26/40 - Training Loss: 0.09133777868478223 - Training Accuracy: 0.9744015957446809 - Validation Loss: 0.9176103165745735 - Validation Accuracy: 0.7821875\n",
            "Starting epoch 27\n",
            "EPOCH 27/40 - Training Loss: 0.08479043215196183 - Training Accuracy: 0.9741799645390071 - Validation Loss: 0.7402683276683092 - Validation Accuracy: 0.81625\n",
            "Starting epoch 28\n",
            "EPOCH 28/40 - Training Loss: 0.08680902831652697 - Training Accuracy: 0.9757313829787234 - Validation Loss: 0.8706113188713789 - Validation Accuracy: 0.7971875\n",
            "Starting epoch 29\n",
            "EPOCH 29/40 - Training Loss: 0.08250032959783331 - Training Accuracy: 0.9740691489361702 - Validation Loss: 0.7974867479503155 - Validation Accuracy: 0.8090625\n",
            "Starting epoch 30\n",
            "EPOCH 30/40 - Training Loss: 0.07426318185443574 - Training Accuracy: 0.9786125886524822 - Validation Loss: 0.7288159754872322 - Validation Accuracy: 0.8259375\n",
            "Starting epoch 31\n",
            "EPOCH 31/40 - Training Loss: 0.06947957737212802 - Training Accuracy: 0.9777260638297872 - Validation Loss: 0.8155680085346103 - Validation Accuracy: 0.811875\n",
            "Starting epoch 32\n",
            "EPOCH 32/40 - Training Loss: 0.07599327808364909 - Training Accuracy: 0.9790558510638298 - Validation Loss: 0.994309386909008 - Validation Accuracy: 0.7778125\n",
            "Starting epoch 33\n",
            "EPOCH 33/40 - Training Loss: 0.07335987518680223 - Training Accuracy: 0.9786125886524822 - Validation Loss: 0.9278735288977623 - Validation Accuracy: 0.793125\n",
            "Starting epoch 34\n",
            "EPOCH 34/40 - Training Loss: 0.0691130092426976 - Training Accuracy: 0.9787234042553191 - Validation Loss: 0.8983595354855061 - Validation Accuracy: 0.79875\n",
            "Starting epoch 35\n",
            "EPOCH 35/40 - Training Loss: 0.06474370953250438 - Training Accuracy: 0.9820478723404256 - Validation Loss: 0.8174903650581836 - Validation Accuracy: 0.816875\n",
            "Starting epoch 36\n",
            "EPOCH 36/40 - Training Loss: 0.06773382085474565 - Training Accuracy: 0.9780585106382979 - Validation Loss: 0.7775428675115108 - Validation Accuracy: 0.8184375\n",
            "Starting epoch 37\n",
            "EPOCH 37/40 - Training Loss: 0.06874057802153712 - Training Accuracy: 0.9783909574468085 - Validation Loss: 0.739601636081934 - Validation Accuracy: 0.8234375\n",
            "Starting epoch 38\n",
            "EPOCH 38/40 - Training Loss: 0.059481769552493985 - Training Accuracy: 0.9809397163120567 - Validation Loss: 0.9816777782142162 - Validation Accuracy: 0.7859375\n",
            "Starting epoch 39\n",
            "EPOCH 39/40 - Training Loss: 0.062333107499920944 - Training Accuracy: 0.9820478723404256 - Validation Loss: 0.8029712337255478 - Validation Accuracy: 0.8184375\n",
            "Starting epoch 40\n",
            "EPOCH 40/40 - Training Loss: 0.05532773438484428 - Training Accuracy: 0.9832668439716311 - Validation Loss: 0.8392026928812265 - Validation Accuracy: 0.8121875\n",
            "--------------------------------\n"
          ]
        }
      ],
      "source": [
        "number_id = 2\n",
        "avg_train_loss, avg_train_accuracy, avg_valid_loss, avg_valid_accuracy, train_filenames, valid_filenames = train_net(3, number_id)"
      ]
    },
    {
      "cell_type": "code",
      "execution_count": 28,
      "metadata": {
        "colab": {
          "base_uri": "https://localhost:8080/",
          "height": 425
        },
        "id": "ASKbg1YSkTnc",
        "outputId": "e88ab4f7-3a24-4094-9b7e-4214a52f3d42"
      },
      "outputs": [
        {
          "output_type": "stream",
          "name": "stdout",
          "text": [
            "11\n"
          ]
        },
        {
          "output_type": "execute_result",
          "data": {
            "text/plain": [
              "<matplotlib.legend.Legend at 0x7f1c081b0c40>"
            ]
          },
          "metadata": {},
          "execution_count": 28
        },
        {
          "output_type": "display_data",
          "data": {
            "text/plain": [
              "<Figure size 864x432 with 2 Axes>"
            ],
            "image/png": "[encoded data removed]"
          },
          "metadata": {
            "needs_background": "light"
          }
        }
      ],
      "source": [
        "best_epoch = (np.argmin(avg_valid_accuracy) + 1)\n",
        "# best_epoch = (np.argmax(avg_valid_accuracy) + 1)\n",
        "print(best_epoch)\n",
        "plt.figure(figsize = [12, 6])\n",
        "plt.subplot(121)\n",
        "plt.plot(avg_train_loss, label=\"train_loss\")\n",
        "plt.plot(avg_valid_loss, label=\"valid_loss\")\n",
        "plt.title('loss')\n",
        "plt.legend()\n",
        "\n",
        "plt.subplot(122)\n",
        "plt.plot(avg_train_accuracy, label=\"train_acc\")\n",
        "plt.plot(avg_valid_accuracy, label=\"valid_acc\")\n",
        "plt.title('accuracy')\n",
        "plt.legend()"
      ]
    },
    {
      "cell_type": "code",
      "execution_count": 29,
      "metadata": {
        "colab": {
          "base_uri": "https://localhost:8080/"
        },
        "id": "1-66opn2KqbF",
        "outputId": "c4a9ee12-b64c-4054-b2ce-0c58dc099701"
      },
      "outputs": [
        {
          "output_type": "execute_result",
          "data": {
            "text/plain": [
              "SwinTransformer(\n",
              "  (patch_embed): PatchEmbed(\n",
              "    (proj): Conv2d(3, 96, kernel_size=(4, 4), stride=(4, 4))\n",
              "    (norm): LayerNorm((96,), eps=1e-05, elementwise_affine=True)\n",
              "  )\n",
              "  (pos_drop): Dropout(p=0.0, inplace=False)\n",
              "  (layers): ModuleList(\n",
              "    (0): BasicLayer(\n",
              "      dim=96, input_resolution=(56, 56), depth=2\n",
              "      (blocks): ModuleList(\n",
              "        (0): SwinTransformerBlock(\n",
              "          dim=96, input_resolution=(56, 56), num_heads=3, window_size=7, shift_size=0, mlp_ratio=4.0\n",
              "          (norm1): LayerNorm((96,), eps=1e-05, elementwise_affine=True)\n",
              "          (attn): WindowAttention(\n",
              "            dim=96, window_size=(7, 7), num_heads=3\n",
              "            (qkv): Linear(in_features=96, out_features=288, bias=True)\n",
              "            (attn_drop): Dropout(p=0.0, inplace=False)\n",
              "            (proj): Linear(in_features=96, out_features=96, bias=True)\n",
              "            (proj_drop): Dropout(p=0.0, inplace=False)\n",
              "            (softmax): Softmax(dim=-1)\n",
              "          )\n",
              "          (drop_path): Identity()\n",
              "          (norm2): LayerNorm((96,), eps=1e-05, elementwise_affine=True)\n",
              "          (mlp): Mlp(\n",
              "            (fc1): Linear(in_features=96, out_features=384, bias=True)\n",
              "            (act): GELU(approximate='none')\n",
              "            (fc2): Linear(in_features=384, out_features=96, bias=True)\n",
              "            (drop): Dropout(p=0.0, inplace=False)\n",
              "          )\n",
              "        )\n",
              "        (1): SwinTransformerBlock(\n",
              "          dim=96, input_resolution=(56, 56), num_heads=3, window_size=7, shift_size=3, mlp_ratio=4.0\n",
              "          (norm1): LayerNorm((96,), eps=1e-05, elementwise_affine=True)\n",
              "          (attn): WindowAttention(\n",
              "            dim=96, window_size=(7, 7), num_heads=3\n",
              "            (qkv): Linear(in_features=96, out_features=288, bias=True)\n",
              "            (attn_drop): Dropout(p=0.0, inplace=False)\n",
              "            (proj): Linear(in_features=96, out_features=96, bias=True)\n",
              "            (proj_drop): Dropout(p=0.0, inplace=False)\n",
              "            (softmax): Softmax(dim=-1)\n",
              "          )\n",
              "          (drop_path): DropPath(drop_prob=0.009)\n",
              "          (norm2): LayerNorm((96,), eps=1e-05, elementwise_affine=True)\n",
              "          (mlp): Mlp(\n",
              "            (fc1): Linear(in_features=96, out_features=384, bias=True)\n",
              "            (act): GELU(approximate='none')\n",
              "            (fc2): Linear(in_features=384, out_features=96, bias=True)\n",
              "            (drop): Dropout(p=0.0, inplace=False)\n",
              "          )\n",
              "        )\n",
              "      )\n",
              "      (downsample): PatchMerging(\n",
              "        input_resolution=(56, 56), dim=96\n",
              "        (reduction): Linear(in_features=384, out_features=192, bias=False)\n",
              "        (norm): LayerNorm((384,), eps=1e-05, elementwise_affine=True)\n",
              "      )\n",
              "    )\n",
              "    (1): BasicLayer(\n",
              "      dim=192, input_resolution=(28, 28), depth=2\n",
              "      (blocks): ModuleList(\n",
              "        (0): SwinTransformerBlock(\n",
              "          dim=192, input_resolution=(28, 28), num_heads=6, window_size=7, shift_size=0, mlp_ratio=4.0\n",
              "          (norm1): LayerNorm((192,), eps=1e-05, elementwise_affine=True)\n",
              "          (attn): WindowAttention(\n",
              "            dim=192, window_size=(7, 7), num_heads=6\n",
              "            (qkv): Linear(in_features=192, out_features=576, bias=True)\n",
              "            (attn_drop): Dropout(p=0.0, inplace=False)\n",
              "            (proj): Linear(in_features=192, out_features=192, bias=True)\n",
              "            (proj_drop): Dropout(p=0.0, inplace=False)\n",
              "            (softmax): Softmax(dim=-1)\n",
              "          )\n",
              "          (drop_path): DropPath(drop_prob=0.018)\n",
              "          (norm2): LayerNorm((192,), eps=1e-05, elementwise_affine=True)\n",
              "          (mlp): Mlp(\n",
              "            (fc1): Linear(in_features=192, out_features=768, bias=True)\n",
              "            (act): GELU(approximate='none')\n",
              "            (fc2): Linear(in_features=768, out_features=192, bias=True)\n",
              "            (drop): Dropout(p=0.0, inplace=False)\n",
              "          )\n",
              "        )\n",
              "        (1): SwinTransformerBlock(\n",
              "          dim=192, input_resolution=(28, 28), num_heads=6, window_size=7, shift_size=3, mlp_ratio=4.0\n",
              "          (norm1): LayerNorm((192,), eps=1e-05, elementwise_affine=True)\n",
              "          (attn): WindowAttention(\n",
              "            dim=192, window_size=(7, 7), num_heads=6\n",
              "            (qkv): Linear(in_features=192, out_features=576, bias=True)\n",
              "            (attn_drop): Dropout(p=0.0, inplace=False)\n",
              "            (proj): Linear(in_features=192, out_features=192, bias=True)\n",
              "            (proj_drop): Dropout(p=0.0, inplace=False)\n",
              "            (softmax): Softmax(dim=-1)\n",
              "          )\n",
              "          (drop_path): DropPath(drop_prob=0.027)\n",
              "          (norm2): LayerNorm((192,), eps=1e-05, elementwise_affine=True)\n",
              "          (mlp): Mlp(\n",
              "            (fc1): Linear(in_features=192, out_features=768, bias=True)\n",
              "            (act): GELU(approximate='none')\n",
              "            (fc2): Linear(in_features=768, out_features=192, bias=True)\n",
              "            (drop): Dropout(p=0.0, inplace=False)\n",
              "          )\n",
              "        )\n",
              "      )\n",
              "      (downsample): PatchMerging(\n",
              "        input_resolution=(28, 28), dim=192\n",
              "        (reduction): Linear(in_features=768, out_features=384, bias=False)\n",
              "        (norm): LayerNorm((768,), eps=1e-05, elementwise_affine=True)\n",
              "      )\n",
              "    )\n",
              "    (2): BasicLayer(\n",
              "      dim=384, input_resolution=(14, 14), depth=6\n",
              "      (blocks): ModuleList(\n",
              "        (0): SwinTransformerBlock(\n",
              "          dim=384, input_resolution=(14, 14), num_heads=12, window_size=7, shift_size=0, mlp_ratio=4.0\n",
              "          (norm1): LayerNorm((384,), eps=1e-05, elementwise_affine=True)\n",
              "          (attn): WindowAttention(\n",
              "            dim=384, window_size=(7, 7), num_heads=12\n",
              "            (qkv): Linear(in_features=384, out_features=1152, bias=True)\n",
              "            (attn_drop): Dropout(p=0.0, inplace=False)\n",
              "            (proj): Linear(in_features=384, out_features=384, bias=True)\n",
              "            (proj_drop): Dropout(p=0.0, inplace=False)\n",
              "            (softmax): Softmax(dim=-1)\n",
              "          )\n",
              "          (drop_path): DropPath(drop_prob=0.036)\n",
              "          (norm2): LayerNorm((384,), eps=1e-05, elementwise_affine=True)\n",
              "          (mlp): Mlp(\n",
              "            (fc1): Linear(in_features=384, out_features=1536, bias=True)\n",
              "            (act): GELU(approximate='none')\n",
              "            (fc2): Linear(in_features=1536, out_features=384, bias=True)\n",
              "            (drop): Dropout(p=0.0, inplace=False)\n",
              "          )\n",
              "        )\n",
              "        (1): SwinTransformerBlock(\n",
              "          dim=384, input_resolution=(14, 14), num_heads=12, window_size=7, shift_size=3, mlp_ratio=4.0\n",
              "          (norm1): LayerNorm((384,), eps=1e-05, elementwise_affine=True)\n",
              "          (attn): WindowAttention(\n",
              "            dim=384, window_size=(7, 7), num_heads=12\n",
              "            (qkv): Linear(in_features=384, out_features=1152, bias=True)\n",
              "            (attn_drop): Dropout(p=0.0, inplace=False)\n",
              "            (proj): Linear(in_features=384, out_features=384, bias=True)\n",
              "            (proj_drop): Dropout(p=0.0, inplace=False)\n",
              "            (softmax): Softmax(dim=-1)\n",
              "          )\n",
              "          (drop_path): DropPath(drop_prob=0.045)\n",
              "          (norm2): LayerNorm((384,), eps=1e-05, elementwise_affine=True)\n",
              "          (mlp): Mlp(\n",
              "            (fc1): Linear(in_features=384, out_features=1536, bias=True)\n",
              "            (act): GELU(approximate='none')\n",
              "            (fc2): Linear(in_features=1536, out_features=384, bias=True)\n",
              "            (drop): Dropout(p=0.0, inplace=False)\n",
              "          )\n",
              "        )\n",
              "        (2): SwinTransformerBlock(\n",
              "          dim=384, input_resolution=(14, 14), num_heads=12, window_size=7, shift_size=0, mlp_ratio=4.0\n",
              "          (norm1): LayerNorm((384,), eps=1e-05, elementwise_affine=True)\n",
              "          (attn): WindowAttention(\n",
              "            dim=384, window_size=(7, 7), num_heads=12\n",
              "            (qkv): Linear(in_features=384, out_features=1152, bias=True)\n",
              "            (attn_drop): Dropout(p=0.0, inplace=False)\n",
              "            (proj): Linear(in_features=384, out_features=384, bias=True)\n",
              "            (proj_drop): Dropout(p=0.0, inplace=False)\n",
              "            (softmax): Softmax(dim=-1)\n",
              "          )\n",
              "          (drop_path): DropPath(drop_prob=0.055)\n",
              "          (norm2): LayerNorm((384,), eps=1e-05, elementwise_affine=True)\n",
              "          (mlp): Mlp(\n",
              "            (fc1): Linear(in_features=384, out_features=1536, bias=True)\n",
              "            (act): GELU(approximate='none')\n",
              "            (fc2): Linear(in_features=1536, out_features=384, bias=True)\n",
              "            (drop): Dropout(p=0.0, inplace=False)\n",
              "          )\n",
              "        )\n",
              "        (3): SwinTransformerBlock(\n",
              "          dim=384, input_resolution=(14, 14), num_heads=12, window_size=7, shift_size=3, mlp_ratio=4.0\n",
              "          (norm1): LayerNorm((384,), eps=1e-05, elementwise_affine=True)\n",
              "          (attn): WindowAttention(\n",
              "            dim=384, window_size=(7, 7), num_heads=12\n",
              "            (qkv): Linear(in_features=384, out_features=1152, bias=True)\n",
              "            (attn_drop): Dropout(p=0.0, inplace=False)\n",
              "            (proj): Linear(in_features=384, out_features=384, bias=True)\n",
              "            (proj_drop): Dropout(p=0.0, inplace=False)\n",
              "            (softmax): Softmax(dim=-1)\n",
              "          )\n",
              "          (drop_path): DropPath(drop_prob=0.064)\n",
              "          (norm2): LayerNorm((384,), eps=1e-05, elementwise_affine=True)\n",
              "          (mlp): Mlp(\n",
              "            (fc1): Linear(in_features=384, out_features=1536, bias=True)\n",
              "            (act): GELU(approximate='none')\n",
              "            (fc2): Linear(in_features=1536, out_features=384, bias=True)\n",
              "            (drop): Dropout(p=0.0, inplace=False)\n",
              "          )\n",
              "        )\n",
              "        (4): SwinTransformerBlock(\n",
              "          dim=384, input_resolution=(14, 14), num_heads=12, window_size=7, shift_size=0, mlp_ratio=4.0\n",
              "          (norm1): LayerNorm((384,), eps=1e-05, elementwise_affine=True)\n",
              "          (attn): WindowAttention(\n",
              "            dim=384, window_size=(7, 7), num_heads=12\n",
              "            (qkv): Linear(in_features=384, out_features=1152, bias=True)\n",
              "            (attn_drop): Dropout(p=0.0, inplace=False)\n",
              "            (proj): Linear(in_features=384, out_features=384, bias=True)\n",
              "            (proj_drop): Dropout(p=0.0, inplace=False)\n",
              "            (softmax): Softmax(dim=-1)\n",
              "          )\n",
              "          (drop_path): DropPath(drop_prob=0.073)\n",
              "          (norm2): LayerNorm((384,), eps=1e-05, elementwise_affine=True)\n",
              "          (mlp): Mlp(\n",
              "            (fc1): Linear(in_features=384, out_features=1536, bias=True)\n",
              "            (act): GELU(approximate='none')\n",
              "            (fc2): Linear(in_features=1536, out_features=384, bias=True)\n",
              "            (drop): Dropout(p=0.0, inplace=False)\n",
              "          )\n",
              "        )\n",
              "        (5): SwinTransformerBlock(\n",
              "          dim=384, input_resolution=(14, 14), num_heads=12, window_size=7, shift_size=3, mlp_ratio=4.0\n",
              "          (norm1): LayerNorm((384,), eps=1e-05, elementwise_affine=True)\n",
              "          (attn): WindowAttention(\n",
              "            dim=384, window_size=(7, 7), num_heads=12\n",
              "            (qkv): Linear(in_features=384, out_features=1152, bias=True)\n",
              "            (attn_drop): Dropout(p=0.0, inplace=False)\n",
              "            (proj): Linear(in_features=384, out_features=384, bias=True)\n",
              "            (proj_drop): Dropout(p=0.0, inplace=False)\n",
              "            (softmax): Softmax(dim=-1)\n",
              "          )\n",
              "          (drop_path): DropPath(drop_prob=0.082)\n",
              "          (norm2): LayerNorm((384,), eps=1e-05, elementwise_affine=True)\n",
              "          (mlp): Mlp(\n",
              "            (fc1): Linear(in_features=384, out_features=1536, bias=True)\n",
              "            (act): GELU(approximate='none')\n",
              "            (fc2): Linear(in_features=1536, out_features=384, bias=True)\n",
              "            (drop): Dropout(p=0.0, inplace=False)\n",
              "          )\n",
              "        )\n",
              "      )\n",
              "      (downsample): PatchMerging(\n",
              "        input_resolution=(14, 14), dim=384\n",
              "        (reduction): Linear(in_features=1536, out_features=768, bias=False)\n",
              "        (norm): LayerNorm((1536,), eps=1e-05, elementwise_affine=True)\n",
              "      )\n",
              "    )\n",
              "    (3): BasicLayer(\n",
              "      dim=768, input_resolution=(7, 7), depth=2\n",
              "      (blocks): ModuleList(\n",
              "        (0): SwinTransformerBlock(\n",
              "          dim=768, input_resolution=(7, 7), num_heads=24, window_size=7, shift_size=0, mlp_ratio=4.0\n",
              "          (norm1): LayerNorm((768,), eps=1e-05, elementwise_affine=True)\n",
              "          (attn): WindowAttention(\n",
              "            dim=768, window_size=(7, 7), num_heads=24\n",
              "            (qkv): Linear(in_features=768, out_features=2304, bias=True)\n",
              "            (attn_drop): Dropout(p=0.0, inplace=False)\n",
              "            (proj): Linear(in_features=768, out_features=768, bias=True)\n",
              "            (proj_drop): Dropout(p=0.0, inplace=False)\n",
              "            (softmax): Softmax(dim=-1)\n",
              "          )\n",
              "          (drop_path): DropPath(drop_prob=0.091)\n",
              "          (norm2): LayerNorm((768,), eps=1e-05, elementwise_affine=True)\n",
              "          (mlp): Mlp(\n",
              "            (fc1): Linear(in_features=768, out_features=3072, bias=True)\n",
              "            (act): GELU(approximate='none')\n",
              "            (fc2): Linear(in_features=3072, out_features=768, bias=True)\n",
              "            (drop): Dropout(p=0.0, inplace=False)\n",
              "          )\n",
              "        )\n",
              "        (1): SwinTransformerBlock(\n",
              "          dim=768, input_resolution=(7, 7), num_heads=24, window_size=7, shift_size=0, mlp_ratio=4.0\n",
              "          (norm1): LayerNorm((768,), eps=1e-05, elementwise_affine=True)\n",
              "          (attn): WindowAttention(\n",
              "            dim=768, window_size=(7, 7), num_heads=24\n",
              "            (qkv): Linear(in_features=768, out_features=2304, bias=True)\n",
              "            (attn_drop): Dropout(p=0.0, inplace=False)\n",
              "            (proj): Linear(in_features=768, out_features=768, bias=True)\n",
              "            (proj_drop): Dropout(p=0.0, inplace=False)\n",
              "            (softmax): Softmax(dim=-1)\n",
              "          )\n",
              "          (drop_path): DropPath(drop_prob=0.100)\n",
              "          (norm2): LayerNorm((768,), eps=1e-05, elementwise_affine=True)\n",
              "          (mlp): Mlp(\n",
              "            (fc1): Linear(in_features=768, out_features=3072, bias=True)\n",
              "            (act): GELU(approximate='none')\n",
              "            (fc2): Linear(in_features=3072, out_features=768, bias=True)\n",
              "            (drop): Dropout(p=0.0, inplace=False)\n",
              "          )\n",
              "        )\n",
              "      )\n",
              "    )\n",
              "  )\n",
              "  (norm): LayerNorm((768,), eps=1e-05, elementwise_affine=True)\n",
              "  (avgpool): AdaptiveAvgPool1d(output_size=1)\n",
              "  (head): Sequential(\n",
              "    (0): Linear(in_features=768, out_features=64, bias=True)\n",
              "    (1): ReLU()\n",
              "    (2): Dropout(p=0.5, inplace=False)\n",
              "    (3): Linear(in_features=64, out_features=1, bias=True)\n",
              "    (4): Sigmoid()\n",
              "  )\n",
              ")"
            ]
          },
          "metadata": {},
          "execution_count": 29
        }
      ],
      "source": [
        "best_epoch = 8\n",
        "# state_dict = torch.load(f'/content/drive/MyDrive/DL-T Cell Segmentatiom/saved_model/epoch_{best_epoch:03}.pth')\n",
        "# state_dict = torch.load(f'/content/drive/MyDrive/DL-T Cell Segmentatiom/saved_model_28th/epoch_{best_epoch:03}.pth')\n",
        "# state_dict = torch.load(f'/content/drive/MyDrive/Jan11th/residual_attention_unet/epoch_{best_epoch:03}.pth')\n",
        "state_dict = torch.load(f'/content/drive/MyDrive/DL-T Cell Segmentatiom/saved_model_bbox/epoch_{best_epoch:03}.pth')\n",
        "\n",
        "model.load_state_dict(state_dict)\n",
        "model.cuda()"
      ]
    },
    {
      "cell_type": "code",
      "execution_count": 30,
      "metadata": {
        "id": "UsbGNvP6QN7b"
      },
      "outputs": [],
      "source": [
        "from sklearn.metrics import accuracy_score, confusion_matrix, roc_auc_score, roc_curve\n",
        "def plot_roc_curve(true_y, y_prob):\n",
        "      fpr, tpr, thresholds = roc_curve(true_y, y_prob)\n",
        "      plt.figure()\n",
        "      plt.plot(fpr, tpr)\n",
        "      plt.xlabel('False Positive Rate')\n",
        "      plt.ylabel('True Positive Rate')\n"
      ]
    },
    {
      "cell_type": "code",
      "execution_count": 31,
      "metadata": {
        "id": "2F0tW1AgYv2O"
      },
      "outputs": [],
      "source": [
        "import re\n",
        "def image_accuracy(result, ratio, type):\n",
        "\n",
        "    idx = result[:,2]\n",
        "    pred = result[:,1]\n",
        "    image_list = list()\n",
        "\n",
        "    if type == 'train':\n",
        "        filenames = train_filenames\n",
        "    elif type == 'val':\n",
        "        filenames = valid_filenames\n",
        "    elif type == 'test':\n",
        "        filenames = test_filenames\n",
        "\n",
        "    for i in (idx):\n",
        "        i = int(i)\n",
        "        curr_identity = filenames[i].split('/')[-1]\n",
        "        image_name = re.sub(curr_identity.split('_')[-1], '', curr_identity)\n",
        "        image_list.append(image_name) \n",
        "\n",
        "    image_list = np.asarray(image_list)\n",
        "    num_imgs = len(np.unique(image_list))\n",
        "    true_label = 0\n",
        "    pred_label = 0\n",
        "    image_pred_label = np.zeros((num_imgs))\n",
        "    image_true_label = np.zeros((num_imgs))\n",
        "    image_pred_rate = np.zeros((num_imgs))\n",
        "    \n",
        "    for i in range(num_imgs):\n",
        "        current_image_name = np.unique(image_list)[i] \n",
        "        patch_id = np.where(image_list == current_image_name)\n",
        "        patch_id = np.array(patch_id)\n",
        "        positive_ratio = np.sum(pred[patch_id] == 1)/patch_id.shape[1]\n",
        "        image_pred_rate[i] = positive_ratio\n",
        "\n",
        "        if positive_ratio > ratio:\n",
        "            pred_label = 1\n",
        "        else:\n",
        "            pred_label = 0\n",
        "        \n",
        "        print(current_image_name, positive_ratio)\n",
        "        if current_image_name[0] == 'L':\n",
        "            true_label = 1\n",
        "        else:\n",
        "            true_label = 0\n",
        "            \n",
        "        image_true_label[i] = true_label\n",
        "        image_pred_label[i] = pred_label\n",
        "        \n",
        "    print('img', image_pred_label)\n",
        "    print('labels', image_true_label)\n",
        "    print(np.sum(image_pred_label == image_true_label))\n",
        "    accuracy = np.sum(image_true_label == image_pred_label)/len(np.unique(image_list))\n",
        " \n",
        "    return accuracy, image_pred_label, image_true_label, image_pred_rate"
      ]
    },
    {
      "cell_type": "code",
      "execution_count": 32,
      "metadata": {
        "id": "cuMjGIyXz4Gx"
      },
      "outputs": [],
      "source": [
        "def test_net(net, test_dataloader, ratio, num, data_type ):\n",
        "    \n",
        "    net.eval()\n",
        "    n_test = len(test_dataloader)\n",
        "    # test_batch_loss = list()\n",
        "    # test_batch_dice = list()\n",
        "    batch_test_accuracy = list()\n",
        "    # test_batch_CM = list()\n",
        "    batch_test_loss = list()\n",
        "    result = np.zeros((num, 4))\n",
        "\n",
        "    loss_function = nn.BCELoss().to(device)\n",
        "\n",
        "    # This part is almost the same as the validation loop in `train_net` function. \n",
        "    with torch.no_grad():\n",
        "        for i, batch in enumerate(test_dataloader):\n",
        "            \n",
        "            \n",
        "            # Load a batch and pass it to the GPU\n",
        "            test_correct = 0\n",
        "            imgs = batch['image'].to(device)\n",
        "            # print('image',imgs.shape)\n",
        "            # print('labels',batch['label'].shape )\n",
        "            labels = batch['label'].float().view(imgs.size(0),1).to(device)\n",
        "            idx = batch['idx'].int().view(imgs.size(0),1).to(device)\n",
        " \n",
        "            y_pred = net(imgs)\n",
        "            pred_binary = (y_pred > 0.5).to(device)\n",
        "            # pred_binary = y_pred.cpu().numpy()\n",
        "\n",
        "            loss = loss_function(y_pred, labels).item()\n",
        "            batch_test_loss.append(loss)\n",
        "\n",
        "            test_correct = test_correct + (pred_binary == labels).sum().item()\n",
        "            test_total = labels.size(0)\n",
        "            batch_test_accuracy.append(test_correct/test_total)\n",
        "\n",
        "            batch_result = np.concatenate((labels.cpu().numpy(), pred_binary.cpu().numpy(),idx.cpu().numpy(), y_pred.cpu()), axis=1)\n",
        "            bs_num = bs\n",
        "            if i == len(test_dataloader)-1:\n",
        "                result[(i)*bs_num:,:] = batch_result\n",
        "            else:     \n",
        "                result[(i)*bs_num:(i)*bs_num + bs_num,:] = batch_result\n",
        "\n",
        "        test_loss = np.array(batch_test_loss).mean()\n",
        "        test_accuracy = np.array(batch_test_accuracy).mean()\n",
        "\n",
        "        \n",
        "        dir_type = data_type\n",
        "        test_img_accuracy, img_pred, img_true, img_pred_rate = image_accuracy(result, ratio, dir_type)\n",
        "\n",
        "\n",
        "        print(f'Test Loss: {test_loss} - Patch Level Accuracy: {test_accuracy} - Image Level Accuracy: {test_img_accuracy}')              \n",
        "    \n",
        "    return result, img_pred, img_true, img_pred_rate"
      ]
    },
    {
      "cell_type": "code",
      "execution_count": 33,
      "metadata": {
        "id": "EA_WzhiaTmC6"
      },
      "outputs": [],
      "source": [
        "number_id = 2\n",
        "# # bs = 256\n",
        "# IMG_PATH = '/media/sail/HDD14T/BME_Grad_Project/Xin and Shiqi/CV' + str(number_id) + '_multiplied/'\n",
        "# root_val = IMG_PATH + 'test/'\n",
        "test_dataset = patch_dataset(root_dir = root_test, transform = test_transform)\n",
        "testloader = torch.utils.data.DataLoader(test_dataset, batch_size=32, num_workers=0, shuffle=True)\n",
        "\n",
        "# testloader = torch.utils.data.DataLoader(test_dataset, batch_size=128, num_workers=0)"
      ]
    },
    {
      "cell_type": "code",
      "execution_count": 34,
      "metadata": {
        "colab": {
          "base_uri": "https://localhost:8080/"
        },
        "id": "vdBTZ938KqbK",
        "outputId": "5524f3f0-78f8-4345-e6a1-6045df4344b0"
      },
      "outputs": [
        {
          "output_type": "stream",
          "name": "stdout",
          "text": [
            "1 has 643 imgs\n",
            "0 has 346 imgs\n",
            "\n",
            "\n",
            "989\n"
          ]
        }
      ],
      "source": [
        "num_imgs = number_of_imgs(root_test)\n",
        "print(num_imgs)"
      ]
    },
    {
      "cell_type": "code",
      "execution_count": 35,
      "metadata": {
        "colab": {
          "base_uri": "https://localhost:8080/"
        },
        "id": "K6NCCOYGhxSJ",
        "outputId": "b42167c6-f73b-4489-86ca-235339c11f91"
      },
      "outputs": [
        {
          "output_type": "stream",
          "name": "stdout",
          "text": [
            "1 has 643 imgs\n",
            "0 has 346 imgs\n",
            "\n",
            "\n",
            "H1_20210225_10to1_40min_2_01_ 0.0\n",
            "H1_20210225_10to1_40min_2_02_ 0.03333333333333333\n",
            "H1_20210225_10to1_40min_2_03_ 0.06666666666666667\n",
            "H1_20210225_10to1_40min_2_04_ 0.07142857142857142\n",
            "H1_20210225_10to1_40min_2_05_ 0.0\n",
            "H1_20210225_3to1_40min_2_01_ 0.17647058823529413\n",
            "H1_20210225_3to1_40min_2_02_ 0.12195121951219512\n",
            "H1_20210225_3to1_40min_2_03_ 0.025\n",
            "H1_20210225_3to1_40min_2_04_ 0.02857142857142857\n",
            "H1_20210225_3to1_40min_2_05_ 0.02702702702702703\n",
            "LK63_20210319_1to3_40min_2_01_ 0.4418604651162791\n",
            "LK63_20210319_1to3_40min_2_02_ 0.4883720930232558\n",
            "LK63_20210319_1to3_40min_2_03_ 0.6206896551724138\n",
            "LK63_20210319_1to3_40min_2_04_ 0.631578947368421\n",
            "LK63_20210319_1to3_40min_2_05_ 0.575\n",
            "LK63_20210319_1to3_40min_2_06_ 0.6285714285714286\n",
            "LK63_20210319_1to3_40min_2_07_ 0.6111111111111112\n",
            "LK63_20210319_1to3_40min_2_08_ 0.7674418604651163\n",
            "LK63_20210319_1to3_40min_2_09_ 0.41025641025641024\n",
            "LK63_20210319_1to3_40min_2_10_ 0.4838709677419355\n",
            "LK75_20210722_10to1_2_01_ 0.8571428571428571\n",
            "LK75_20210722_10to1_2_02_ 1.0\n",
            "LK75_20210722_10to1_2_03_ 0.7\n",
            "LK75_20210722_10to1_2_04_ 0.8333333333333334\n",
            "LK75_20210722_10to1_2_05_ 0.9166666666666666\n",
            "LK75_20210722_10to1_2_06_ 0.9166666666666666\n",
            "LK75_20210722_10to1_2_07_ 0.9285714285714286\n",
            "LK75_20210722_10to1_2_08_ 0.8\n",
            "LK75_20210722_1to3_40min_2_01_ 0.4444444444444444\n",
            "LK75_20210722_1to3_40min_2_02_ 0.5\n",
            "LK75_20210722_1to3_40min_2_03_ 0.6666666666666666\n",
            "LK75_20210722_1to3_40min_2_04_ 0.5714285714285714\n",
            "LK75_20210722_1to3_40min_2_05_ 0.5\n",
            "LK75_20210722_1to3_40min_2_06_ 0.6666666666666666\n",
            "LK75_20210722_1to3_40min_2_07_ 0.35714285714285715\n",
            "LK75_20210722_1to3_40min_2_08_ 0.6923076923076923\n",
            "LK75_20210722_3to1_40min_2_01_ 1.0\n",
            "LK75_20210722_3to1_40min_2_02_ 1.0\n",
            "LK75_20210722_3to1_40min_2_03_ 1.0\n",
            "LK75_20210722_3to1_40min_2_04_ 1.0\n",
            "LK75_20210722_3to1_40min_2_05_ 1.0\n",
            "LK75_20210722_3to1_40min_2_06_ 0.875\n",
            "LK75_20210722_3to1_40min_2_07_ 0.9166666666666666\n",
            "LK75_20210722_3to1_40min_2_08_ 0.9333333333333333\n",
            "img [0. 0. 0. 0. 0. 0. 0. 0. 0. 0. 0. 0. 1. 1. 1. 1. 1. 1. 0. 0. 1. 1. 1. 1.\n",
            " 1. 1. 1. 1. 0. 0. 1. 1. 0. 1. 0. 1. 1. 1. 1. 1. 1. 1. 1. 1.]\n",
            "labels [0. 0. 0. 0. 0. 0. 0. 0. 0. 0. 1. 1. 1. 1. 1. 1. 1. 1. 1. 1. 1. 1. 1. 1.\n",
            " 1. 1. 1. 1. 1. 1. 1. 1. 1. 1. 1. 1. 1. 1. 1. 1. 1. 1. 1. 1.]\n",
            "36\n",
            "Test Loss: 0.544611785681017 - Patch Level Accuracy: 0.7666156840934372 - Image Level Accuracy: 0.8181818181818182\n"
          ]
        }
      ],
      "source": [
        "pat_result_test, img_pred_test, img_true_test, img_pred_rate_test = test_net(model, testloader, ratio = 0.5, num=number_of_imgs(root_test), data_type = 'test')"
      ]
    },
    {
      "cell_type": "code",
      "execution_count": 36,
      "metadata": {
        "id": "JbmX4ywsKqbL"
      },
      "outputs": [],
      "source": [
        "val_dataset = patch_dataset(root_dir = root_val, transform = test_transform)\n",
        "valloader = torch.utils.data.DataLoader(val_dataset, batch_size=bs, num_workers=0)"
      ]
    },
    {
      "cell_type": "code",
      "execution_count": null,
      "metadata": {
        "id": "Z-vUhlfcKqbM"
      },
      "outputs": [],
      "source": [
        "print(bs)"
      ]
    },
    {
      "cell_type": "code",
      "execution_count": 37,
      "metadata": {
        "colab": {
          "base_uri": "https://localhost:8080/"
        },
        "id": "OyygUr9XKqbN",
        "outputId": "a89940ac-5792-4daf-eda4-79f8641c6d96"
      },
      "outputs": [
        {
          "output_type": "stream",
          "name": "stdout",
          "text": [
            "1 has 1600 imgs\n",
            "0 has 1600 imgs\n",
            "\n",
            "\n",
            "3200\n"
          ]
        }
      ],
      "source": [
        "num_imgs = number_of_imgs(root_val)\n",
        "print(num_imgs)\n",
        "# print(len(trloader))"
      ]
    },
    {
      "cell_type": "code",
      "execution_count": 38,
      "metadata": {
        "scrolled": false,
        "colab": {
          "base_uri": "https://localhost:8080/"
        },
        "id": "-Yoe-zjFKqbO",
        "outputId": "cf1937c2-b22c-447c-efd2-ead900724db3"
      },
      "outputs": [
        {
          "output_type": "stream",
          "name": "stdout",
          "text": [
            "1 has 1600 imgs\n",
            "0 has 1600 imgs\n",
            "\n",
            "\n",
            "H3_20210917_10to1_40min_2_01_ 0.058823529411764705\n",
            "H3_20210917_10to1_40min_2_02_ 0.0\n",
            "H3_20210917_10to1_40min_2_03_ 0.07142857142857142\n",
            "H3_20210917_10to1_40min_2_04_ 0.0\n",
            "H3_20210917_10to1_40min_2_05_ 0.0\n",
            "H3_20210917_10to1_40min_2_06_ 0.21428571428571427\n",
            "H3_20210917_10to1_40min_2_07_ 0.08695652173913043\n",
            "H3_20210917_10to1_40min_2_08_ 0.12\n",
            "H3_20210917_10to1_40min_2_09_ 0.0\n",
            "H3_20210917_10to1_40min_2_10_ 0.0\n",
            "H3_20210917_1to3_40min_2_01_ 0.35\n",
            "H3_20210917_1to3_40min_2_02_ 0.6176470588235294\n",
            "H3_20210917_1to3_40min_2_03_ 0.5384615384615384\n",
            "H3_20210917_1to3_40min_2_04_ 0.5517241379310345\n",
            "H3_20210917_1to3_40min_2_05_ 0.5217391304347826\n",
            "H3_20210917_1to3_40min_2_06_ 0.5357142857142857\n",
            "H3_20210917_1to3_40min_2_07_ 0.6\n",
            "H3_20210917_1to3_40min_2_08_ 0.43478260869565216\n",
            "H3_20210917_1to3_40min_2_09_ 0.28\n",
            "H3_20210917_1to3_40min_2_10_ 0.36363636363636365\n",
            "H3_20210917_3to1_40min_2_01_ 0.125\n",
            "H3_20210917_3to1_40min_2_02_ 0.19047619047619047\n",
            "H3_20210917_3to1_40min_2_03_ 0.1\n",
            "H3_20210917_3to1_40min_2_04_ 0.0\n",
            "H3_20210917_3to1_40min_2_05_ 0.10526315789473684\n",
            "H3_20210917_3to1_40min_2_06_ 0.11764705882352941\n",
            "H3_20210917_3to1_40min_2_07_ 0.13333333333333333\n",
            "H3_20210917_3to1_40min_2_08_ 0.0\n",
            "H3_20210917_3to1_40min_2_09_ 0.0\n",
            "H3_20210917_3to1_40min_2_10_ 0.045454545454545456\n",
            "H3_20210923_10to1_40min_2_01_ 0.0\n",
            "H3_20210923_10to1_40min_2_02_ 0.0\n",
            "H3_20210923_10to1_40min_2_03_ 0.0\n",
            "H3_20210923_10to1_40min_2_04_ 0.0\n",
            "H3_20210923_10to1_40min_2_05_ 0.0\n",
            "H3_20210923_10to1_40min_2_06_ 0.0\n",
            "H3_20210923_10to1_40min_2_07_ 0.05555555555555555\n",
            "H3_20210923_10to1_40min_2_08_ 0.041666666666666664\n",
            "H3_20210923_10to1_40min_2_09_ 0.0\n",
            "H3_20210923_10to1_40min_2_10_ 0.05\n",
            "H3_20210923_1to3_40min_2_01_ 0.0\n",
            "H3_20210923_1to3_40min_2_02_ 0.09523809523809523\n",
            "H3_20210923_1to3_40min_2_03_ 0.0\n",
            "H3_20210923_1to3_40min_2_04_ 0.0\n",
            "H3_20210923_1to3_40min_2_05_ 0.0\n",
            "H3_20210923_1to3_40min_2_06_ 0.0\n",
            "H3_20210923_1to3_40min_2_07_ 0.05555555555555555\n",
            "H3_20210923_1to3_40min_2_08_ 0.0\n",
            "H3_20210923_1to3_40min_2_09_ 0.0\n",
            "H3_20210923_1to3_40min_2_10_ 0.0\n",
            "H3_20210923_1to3_40min_2_11_ 0.0\n",
            "H3_20210923_1to3_40min_2_12_ 0.0\n",
            "H3_20210923_1to3_40min_2_13_ 0.07142857142857142\n",
            "H3_20210923_3to1_40min_2_01_ 0.13333333333333333\n",
            "H3_20210923_3to1_40min_2_02_ 0.0\n",
            "H3_20210923_3to1_40min_2_03_ 0.0\n",
            "H3_20210923_3to1_40min_2_04_ 0.058823529411764705\n",
            "H3_20210923_3to1_40min_2_05_ 0.0\n",
            "H3_20210923_3to1_40min_2_06_ 0.0\n",
            "H3_20210923_3to1_40min_2_07_ 0.0\n",
            "H3_20210923_3to1_40min_2_08_ 0.0\n",
            "H3_20210923_3to1_40min_2_09_ 0.0\n",
            "H3_20210923_3to1_40min_2_10_ 0.08333333333333333\n",
            "H3_20210923_3to1_40min_2_11_ 0.0\n",
            "H3_20210924_10to1_40min_2_01_ 0.0\n",
            "H3_20210924_10to1_40min_2_02_ 0.0\n",
            "H3_20210924_10to1_40min_2_03_ 0.0\n",
            "H3_20210924_10to1_40min_2_04_ 0.0\n",
            "H3_20210924_10to1_40min_2_05_ 0.0\n",
            "H3_20210924_10to1_40min_2_06_ 0.0\n",
            "H3_20210924_10to1_40min_2_07_ 0.0\n",
            "H3_20210924_10to1_40min_2_08_ 0.0\n",
            "H3_20210924_10to1_40min_2_09_ 0.0\n",
            "H3_20210924_10to1_40min_2_10_ 0.0\n",
            "H3_20210924_10to1_40min_2_11_ 0.0\n",
            "H3_20210924_1to3_40min_2_01_ 0.0\n",
            "H3_20210924_1to3_40min_2_02_ 0.2222222222222222\n",
            "H3_20210924_1to3_40min_2_03_ 0.07692307692307693\n",
            "H3_20210924_1to3_40min_2_04_ 0.0\n",
            "H3_20210924_1to3_40min_2_05_ 0.08333333333333333\n",
            "H3_20210924_1to3_40min_2_06_ 0.03125\n",
            "H3_20210924_1to3_40min_2_07_ 0.14285714285714285\n",
            "H3_20210924_1to3_40min_2_08_ 0.08333333333333333\n",
            "H3_20210924_1to3_40min_2_09_ 0.0625\n",
            "H3_20210924_1to3_40min_2_10_ 0.25\n",
            "H3_20210924_3to1_40min_2_01_ 0.0\n",
            "H3_20210924_3to1_40min_2_02_ 0.0\n",
            "H3_20210924_3to1_40min_2_03_ 0.07142857142857142\n",
            "H3_20210924_3to1_40min_2_04_ 0.0\n",
            "H3_20210924_3to1_40min_2_05_ 0.0\n",
            "H3_20210924_3to1_40min_2_06_ 0.0\n",
            "H3_20210924_3to1_40min_2_07_ 0.0\n",
            "H3_20210924_3to1_40min_2_08_ 0.0\n",
            "H3_20210924_3to1_40min_2_09_ 0.05\n",
            "H3_20210924_3to1_40min_2_10_ 0.0\n",
            "LK18_20210305_10to1_40min_2_01_ 0.2222222222222222\n",
            "LK18_20210305_10to1_40min_2_02_ 0.041666666666666664\n",
            "LK18_20210305_10to1_40min_2_03_ 0.0625\n",
            "LK18_20210305_10to1_40min_2_04_ 0.05\n",
            "LK18_20210305_10to1_40min_2_05_ 0.06666666666666667\n",
            "LK18_20210305_10to1_40min_2_06_ 0.07407407407407407\n",
            "LK18_20210305_10to1_40min_2_07_ 0.043478260869565216\n",
            "LK18_20210305_10to1_40min_2_08_ 0.2727272727272727\n",
            "LK18_20210305_10to1_40min_2_09_ 0.16666666666666666\n",
            "LK18_20210305_10to1_40min_2_10_ 0.11764705882352941\n",
            "LK18_20210305_1to3_40min_2_01_ 0.07142857142857142\n",
            "LK18_20210305_1to3_40min_2_02_ 0.14285714285714285\n",
            "LK18_20210305_1to3_40min_2_03_ 0.2\n",
            "LK18_20210305_1to3_40min_2_04_ 0.06666666666666667\n",
            "LK18_20210305_1to3_40min_2_05_ 0.17391304347826086\n",
            "LK18_20210305_1to3_40min_2_06_ 0.2\n",
            "LK18_20210305_1to3_40min_2_07_ 0.037037037037037035\n",
            "LK18_20210305_1to3_40min_2_08_ 0.1111111111111111\n",
            "LK18_20210305_1to3_40min_2_09_ 0.17391304347826086\n",
            "LK18_20210305_1to3_40min_2_10_ 0.1724137931034483\n",
            "LK18_20210305_3to1_40min_2_01_ 0.16666666666666666\n",
            "LK18_20210305_3to1_40min_2_02_ 0.14814814814814814\n",
            "LK18_20210305_3to1_40min_2_03_ 0.10526315789473684\n",
            "LK18_20210305_3to1_40min_2_04_ 0.08695652173913043\n",
            "LK18_20210305_3to1_40min_2_05_ 0.125\n",
            "LK18_20210305_3to1_40min_2_06_ 0.06666666666666667\n",
            "LK18_20210305_3to1_40min_2_07_ 0.03225806451612903\n",
            "LK18_20210305_3to1_40min_2_08_ 0.125\n",
            "LK18_20210305_3to1_40min_2_09_ 0.11428571428571428\n",
            "LK18_20210305_3to1_40min_2_10_ 0.0625\n",
            "LK18_20210305_3to1_40min_2_11_ 0.06666666666666667\n",
            "LK2_20210305_10to1_40min_2_01_ 1.0\n",
            "LK2_20210305_10to1_40min_2_02_ 1.0\n",
            "LK2_20210305_10to1_40min_2_03_ 1.0\n",
            "LK2_20210305_10to1_40min_2_04_ 0.9473684210526315\n",
            "LK2_20210305_10to1_40min_2_05_ 0.967741935483871\n",
            "LK2_20210305_10to1_40min_2_06_ 1.0\n",
            "LK2_20210305_10to1_40min_2_07_ 1.0\n",
            "LK2_20210305_10to1_40min_2_08_ 0.9473684210526315\n",
            "LK2_20210305_10to1_40min_2_09_ 0.9523809523809523\n",
            "LK2_20210305_10to1_40min_2_10_ 1.0\n",
            "LK2_20210305_1to3_40min_2_01_ 0.92\n",
            "LK2_20210305_1to3_40min_2_02_ 0.96\n",
            "LK2_20210305_1to3_40min_2_03_ 1.0\n",
            "LK2_20210305_1to3_40min_2_04_ 0.96\n",
            "LK2_20210305_1to3_40min_2_05_ 1.0\n",
            "LK2_20210305_1to3_40min_2_06_ 1.0\n",
            "LK2_20210305_1to3_40min_2_07_ 0.9259259259259259\n",
            "LK2_20210305_1to3_40min_2_08_ 0.9696969696969697\n",
            "LK2_20210305_1to3_40min_2_09_ 0.9333333333333333\n",
            "LK2_20210305_1to3_40min_2_10_ 1.0\n",
            "LK2_20210305_3to1_40min_2_01_ 0.8823529411764706\n",
            "LK2_20210305_3to1_40min_2_02_ 0.9090909090909091\n",
            "LK2_20210305_3to1_40min_2_03_ 0.8275862068965517\n",
            "LK2_20210305_3to1_40min_2_04_ 0.7878787878787878\n",
            "LK2_20210305_3to1_40min_2_05_ 0.8518518518518519\n",
            "LK2_20210305_3to1_40min_2_06_ 0.8666666666666667\n",
            "LK2_20210305_3to1_40min_2_07_ 0.7333333333333333\n",
            "LK2_20210305_3to1_40min_2_08_ 0.8378378378378378\n",
            "LK2_20210305_3to1_40min_2_09_ 0.625\n",
            "LK2_20210305_3to1_40min_2_10_ 0.8611111111111112\n",
            "img [0. 0. 0. 0. 0. 0. 0. 0. 0. 0. 0. 1. 1. 1. 1. 1. 1. 0. 0. 0. 0. 0. 0. 0.\n",
            " 0. 0. 0. 0. 0. 0. 0. 0. 0. 0. 0. 0. 0. 0. 0. 0. 0. 0. 0. 0. 0. 0. 0. 0.\n",
            " 0. 0. 0. 0. 0. 0. 0. 0. 0. 0. 0. 0. 0. 0. 0. 0. 0. 0. 0. 0. 0. 0. 0. 0.\n",
            " 0. 0. 0. 0. 0. 0. 0. 0. 0. 0. 0. 0. 0. 0. 0. 0. 0. 0. 0. 0. 0. 0. 0. 0.\n",
            " 0. 0. 0. 0. 0. 0. 0. 0. 0. 0. 0. 0. 0. 0. 0. 0. 0. 0. 0. 0. 0. 0. 0. 0.\n",
            " 0. 0. 0. 0. 0. 0. 1. 1. 1. 1. 1. 1. 1. 1. 1. 1. 1. 1. 1. 1. 1. 1. 1. 1.\n",
            " 1. 1. 1. 1. 1. 1. 1. 1. 1. 1. 1. 1.]\n",
            "labels [0. 0. 0. 0. 0. 0. 0. 0. 0. 0. 0. 0. 0. 0. 0. 0. 0. 0. 0. 0. 0. 0. 0. 0.\n",
            " 0. 0. 0. 0. 0. 0. 0. 0. 0. 0. 0. 0. 0. 0. 0. 0. 0. 0. 0. 0. 0. 0. 0. 0.\n",
            " 0. 0. 0. 0. 0. 0. 0. 0. 0. 0. 0. 0. 0. 0. 0. 0. 0. 0. 0. 0. 0. 0. 0. 0.\n",
            " 0. 0. 0. 0. 0. 0. 0. 0. 0. 0. 0. 0. 0. 0. 0. 0. 0. 0. 0. 0. 0. 0. 0. 1.\n",
            " 1. 1. 1. 1. 1. 1. 1. 1. 1. 1. 1. 1. 1. 1. 1. 1. 1. 1. 1. 1. 1. 1. 1. 1.\n",
            " 1. 1. 1. 1. 1. 1. 1. 1. 1. 1. 1. 1. 1. 1. 1. 1. 1. 1. 1. 1. 1. 1. 1. 1.\n",
            " 1. 1. 1. 1. 1. 1. 1. 1. 1. 1. 1. 1.]\n",
            "119\n",
            "Test Loss: 0.6827026411890984 - Patch Level Accuracy: 0.70125 - Image Level Accuracy: 0.7628205128205128\n"
          ]
        }
      ],
      "source": [
        "pat_result_val, img_pred_val, img_true_val, img_pred_rate_val = test_net(model, valloader, ratio = 0.5, num=number_of_imgs(root_val),  data_type = 'val')"
      ]
    },
    {
      "cell_type": "code",
      "execution_count": 39,
      "metadata": {
        "id": "tX_8gsHTKqbP"
      },
      "outputs": [],
      "source": [
        "tr_dataset = patch_dataset(root_dir = root_tr, transform = test_transform)\n",
        "trloader = torch.utils.data.DataLoader(tr_dataset, batch_size=bs, num_workers=0)"
      ]
    },
    {
      "cell_type": "code",
      "execution_count": 40,
      "metadata": {
        "scrolled": false,
        "colab": {
          "base_uri": "https://localhost:8080/"
        },
        "id": "L59EeP2tKqbP",
        "outputId": "24947afb-187f-4d02-89f3-d3e7b197f593"
      },
      "outputs": [
        {
          "output_type": "stream",
          "name": "stdout",
          "text": [
            "1 has 1500 imgs\n",
            "0 has 1500 imgs\n",
            "\n",
            "\n",
            "H2_20210401_10to1_40min_2_01_ 0.28\n",
            "H2_20210401_10to1_40min_2_02_ 0.0\n",
            "H2_20210401_10to1_40min_2_03_ 0.034482758620689655\n",
            "H2_20210401_10to1_40min_2_04_ 0.0\n",
            "H2_20210401_10to1_40min_2_05_ 0.0\n",
            "H2_20210401_10to1_40min_2_06_ 0.0\n",
            "H2_20210401_10to1_40min_2_07_ 0.0\n",
            "H2_20210401_10to1_40min_2_08_ 0.06666666666666667\n",
            "H2_20210401_10to1_40min_2_09_ 0.0\n",
            "H2_20210401_10to1_40min_2_10_ 0.037037037037037035\n",
            "H2_20210401_1to3_40min_2_01_ 0.0\n",
            "H2_20210401_1to3_40min_2_02_ 0.0\n",
            "H2_20210401_1to3_40min_2_03_ 0.0\n",
            "H2_20210401_1to3_40min_2_04_ 0.0\n",
            "H2_20210401_1to3_40min_2_05_ 0.0\n",
            "H2_20210401_1to3_40min_2_06_ 0.0\n",
            "H2_20210401_1to3_40min_2_07_ 0.0\n",
            "H2_20210401_1to3_40min_2_08_ 0.02857142857142857\n",
            "H2_20210401_1to3_40min_2_09_ 0.0\n",
            "H2_20210401_1to3_40min_2_10_ 0.0625\n",
            "H2_20210401_3to1_2_01_ 0.0625\n",
            "H2_20210401_3to1_2_02_ 0.0\n",
            "H2_20210401_3to1_2_03_ 0.0\n",
            "H2_20210401_3to1_2_04_ 0.0\n",
            "H2_20210401_3to1_2_05_ 0.0\n",
            "H2_20210401_3to1_2_06_ 0.0\n",
            "H2_20210401_3to1_2_07_ 0.025\n",
            "H2_20210401_3to1_2_08_ 0.0\n",
            "H2_20210401_3to1_2_09_ 0.0\n",
            "H2_20210401_3to1_2_10_ 0.06060606060606061\n",
            "H2_20210826_10to1_40min_2_01_ 0.8529411764705882\n",
            "H2_20210826_10to1_40min_2_02_ 0.8571428571428571\n",
            "H2_20210826_10to1_40min_2_03_ 0.9375\n",
            "H2_20210826_10to1_40min_2_04_ 0.8846153846153846\n",
            "H2_20210826_1to3_40min_2_01_ 0.5652173913043478\n",
            "H2_20210826_1to3_40min_2_02_ 0.782608695652174\n",
            "H2_20210826_1to3_40min_2_03_ 0.6785714285714286\n",
            "H2_20210826_1to3_40min_2_04_ 0.53125\n",
            "H2_20210826_1to3_40min_2_05_ 0.7\n",
            "H2_20210826_3to1_40min_2_01_ 0.125\n",
            "H2_20210826_3to1_40min_2_02_ 0.21739130434782608\n",
            "H2_20210826_3to1_40min_2_03_ 0.14814814814814814\n",
            "H2_20210826_3to1_40min_2_04_ 0.14285714285714285\n",
            "H2_20210826_3to1_40min_2_05_ 0.0\n",
            "H2_20210827_10to1_40min_2_01_ 0.0\n",
            "H2_20210827_10to1_40min_2_02_ 0.0\n",
            "H2_20210827_10to1_40min_2_03_ 0.0\n",
            "H2_20210827_10to1_40min_2_04_ 0.07142857142857142\n",
            "H2_20210827_1to3_40min_2_01_ 0.05263157894736842\n",
            "H2_20210827_1to3_40min_2_02_ 0.15384615384615385\n",
            "H2_20210827_1to3_40min_2_03_ 0.047619047619047616\n",
            "H2_20210827_1to3_40min_2_04_ 0.041666666666666664\n",
            "H2_20210827_3to1_40min_2_01_ 0.16\n",
            "H2_20210827_3to1_40min_2_02_ 0.0\n",
            "H2_20210827_3to1_40min_2_03_ 0.16666666666666666\n",
            "H2_20210827_3to1_40min_2_04_ 0.0\n",
            "LK51_20210319_10to1_40min_2_01_ 0.9333333333333333\n",
            "LK51_20210319_10to1_40min_2_02_ 0.76\n",
            "LK51_20210319_10to1_40min_2_03_ 0.8709677419354839\n",
            "LK51_20210319_10to1_40min_2_04_ 0.9375\n",
            "LK51_20210319_10to1_40min_2_05_ 1.0\n",
            "LK51_20210319_10to1_40min_2_06_ 0.8928571428571429\n",
            "LK51_20210319_10to1_40min_2_07_ 0.9090909090909091\n",
            "LK51_20210319_10to1_40min_2_08_ 0.8666666666666667\n",
            "LK51_20210319_10to1_40min_2_09_ 0.8947368421052632\n",
            "LK51_20210319_10to1_40min_2_10_ 0.9473684210526315\n",
            "LK51_20210319_1to3_40min_2_01_ 0.8947368421052632\n",
            "LK51_20210319_1to3_40min_2_02_ 0.9615384615384616\n",
            "LK51_20210319_1to3_40min_2_03_ 0.9166666666666666\n",
            "LK51_20210319_1to3_40min_2_04_ 0.95\n",
            "LK51_20210319_1to3_40min_2_05_ 1.0\n",
            "LK51_20210319_1to3_40min_2_06_ 1.0\n",
            "LK51_20210319_1to3_40min_2_07_ 0.9615384615384616\n",
            "LK51_20210319_1to3_40min_2_08_ 1.0\n",
            "LK51_20210319_1to3_40min_2_09_ 1.0\n",
            "LK51_20210319_1to3_40min_2_10_ 0.8666666666666667\n",
            "LK51_20210319_3to1_2_01_ 0.9583333333333334\n",
            "LK51_20210319_3to1_2_02_ 1.0\n",
            "LK51_20210319_3to1_2_03_ 0.92\n",
            "LK51_20210319_3to1_2_04_ 1.0\n",
            "LK51_20210319_3to1_2_05_ 0.9117647058823529\n",
            "LK51_20210319_3to1_2_06_ 0.9411764705882353\n",
            "LK51_20210319_3to1_2_07_ 0.9523809523809523\n",
            "LK51_20210319_3to1_2_08_ 0.8095238095238095\n",
            "LK51_20210319_3to1_2_09_ 0.7666666666666667\n",
            "LK51_20210319_3to1_2_10_ 1.0\n",
            "LK51_20210319_3to1_2_11_ 0.7727272727272727\n",
            "LK67_20210312_1to3_40min_2_01_ 0.975609756097561\n",
            "LK67_20210312_1to3_40min_2_02_ 0.9444444444444444\n",
            "LK67_20210312_1to3_40min_2_03_ 0.9736842105263158\n",
            "LK67_20210312_1to3_40min_2_04_ 0.918918918918919\n",
            "LK67_20210312_1to3_40min_2_05_ 0.9148936170212766\n",
            "LK67_20210312_1to3_40min_2_06_ 0.9761904761904762\n",
            "LK67_20210312_1to3_40min_2_07_ 0.926829268292683\n",
            "LK67_20210312_1to3_40min_2_08_ 0.975609756097561\n",
            "LK67_20210312_1to3_40min_2_09_ 0.9230769230769231\n",
            "LK67_20210312_1to3_40min_2_10_ 0.9333333333333333\n",
            "LK67_20210312_1to3_40min_2_11_ 0.9347826086956522\n",
            "LK67_20210312_3to1_40min_2_01_ 0.9714285714285714\n",
            "LK67_20210312_3to1_40min_2_02_ 0.9714285714285714\n",
            "LK67_20210312_3to1_40min_2_03_ 0.9743589743589743\n",
            "LK67_20210312_3to1_40min_2_04_ 0.9090909090909091\n",
            "LK67_20210312_3to1_40min_2_05_ 0.9333333333333333\n",
            "LK67_20210312_3to1_40min_2_06_ 0.9310344827586207\n",
            "LK67_20210312_3to1_40min_2_07_ 1.0\n",
            "LK67_20210312_3to1_40min_2_08_ 0.9642857142857143\n",
            "LK67_20210312_3to1_40min_2_09_ 1.0\n",
            "LK67_20210312_3to1_40min_2_10_ 1.0\n",
            "img [0. 0. 0. 0. 0. 0. 0. 0. 0. 0. 0. 0. 0. 0. 0. 0. 0. 0. 0. 0. 0. 0. 0. 0.\n",
            " 0. 0. 0. 0. 0. 0. 1. 1. 1. 1. 1. 1. 1. 1. 1. 0. 0. 0. 0. 0. 0. 0. 0. 0.\n",
            " 0. 0. 0. 0. 0. 0. 0. 0. 1. 1. 1. 1. 1. 1. 1. 1. 1. 1. 1. 1. 1. 1. 1. 1.\n",
            " 1. 1. 1. 1. 1. 1. 1. 1. 1. 1. 1. 1. 1. 1. 1. 1. 1. 1. 1. 1. 1. 1. 1. 1.\n",
            " 1. 1. 1. 1. 1. 1. 1. 1. 1. 1. 1. 1.]\n",
            "labels [0. 0. 0. 0. 0. 0. 0. 0. 0. 0. 0. 0. 0. 0. 0. 0. 0. 0. 0. 0. 0. 0. 0. 0.\n",
            " 0. 0. 0. 0. 0. 0. 0. 0. 0. 0. 0. 0. 0. 0. 0. 0. 0. 0. 0. 0. 0. 0. 0. 0.\n",
            " 0. 0. 0. 0. 0. 0. 0. 0. 1. 1. 1. 1. 1. 1. 1. 1. 1. 1. 1. 1. 1. 1. 1. 1.\n",
            " 1. 1. 1. 1. 1. 1. 1. 1. 1. 1. 1. 1. 1. 1. 1. 1. 1. 1. 1. 1. 1. 1. 1. 1.\n",
            " 1. 1. 1. 1. 1. 1. 1. 1. 1. 1. 1. 1.]\n",
            "99\n",
            "Test Loss: 0.4464998806410648 - Patch Level Accuracy: 0.890625 - Image Level Accuracy: 0.9166666666666666\n"
          ]
        }
      ],
      "source": [
        "pat_result_tr, img_pred_tr, img_true_tr, img_pred_rate_tr = test_net(model, trloader, ratio = 0.5, num=number_of_imgs(root_tr),  data_type = 'train')"
      ]
    },
    {
      "cell_type": "code",
      "execution_count": 41,
      "metadata": {
        "id": "GkqH7tsCKqbQ",
        "colab": {
          "base_uri": "https://localhost:8080/"
        },
        "outputId": "8982070b-35d1-4430-ea89-ca9e67491ebe"
      },
      "outputs": [
        {
          "output_type": "stream",
          "name": "stdout",
          "text": [
            "(3000,)\n"
          ]
        }
      ],
      "source": [
        "pat_pred_tr = pat_result_tr[:,3]\n",
        "pat_true_tr = pat_result_tr[:,0]\n",
        "print(pat_pred_tr.shape)"
      ]
    },
    {
      "cell_type": "code",
      "execution_count": 42,
      "metadata": {
        "id": "QUZz06d4KqbQ",
        "colab": {
          "base_uri": "https://localhost:8080/"
        },
        "outputId": "3c65a65d-7d1d-4ef9-ee35-efaa16855b37"
      },
      "outputs": [
        {
          "output_type": "stream",
          "name": "stdout",
          "text": [
            "(3200,)\n"
          ]
        }
      ],
      "source": [
        "pat_pred_val = pat_result_val[:,3]\n",
        "pat_true_val = pat_result_val[:,0]\n",
        "print(pat_pred_val.shape)"
      ]
    },
    {
      "cell_type": "code",
      "execution_count": 43,
      "metadata": {
        "id": "L-J-hVqtKqbR",
        "colab": {
          "base_uri": "https://localhost:8080/"
        },
        "outputId": "1f7e7c78-b8ad-4d25-830d-8d5e7a092052"
      },
      "outputs": [
        {
          "output_type": "stream",
          "name": "stdout",
          "text": [
            "(989,)\n"
          ]
        }
      ],
      "source": [
        "pat_pred_test = pat_result_test[:,3]\n",
        "pat_true_test = pat_result_test[:,0]\n",
        "print(pat_pred_test.shape)"
      ]
    },
    {
      "cell_type": "code",
      "execution_count": 44,
      "metadata": {
        "id": "dcKsoNYLKqbS"
      },
      "outputs": [],
      "source": [
        "def ROCanalysis(pred, true):\n",
        "    \n",
        "    fpr, tpr, thresholds = roc_curve(true, pred)\n",
        "#     print(fpr[:10],tpr[:10],thresholds[:10])\n",
        "    roc_auc = auc(fpr, tpr)\n",
        "    plt.figure()\n",
        "    plt.plot(fpr, tpr, label=\"AUC=\"+str(roc_auc_score(true, pred)))\n",
        "    plt.ylabel('True Positive Rate')\n",
        "    plt.xlabel('False Positive Rate')\n",
        "    plt.legend(loc=4)\n",
        "    plt.show()\n",
        "    print(\"Area under the ROC cuve : %f\" % roc_auc)\n",
        "          \n",
        "    i = np.arange(len(tpr))\n",
        "    roc = pd.DataFrame({'tf' :pd.Series(tpr-(1-fpr), index=i), 'threshold' : pd.Series(thresholds, index = i)})\n",
        "    roc_t = roc.iloc[(roc.tf-0).abs().argsort()[:1]]\n",
        "#     print(roc_t)\n",
        "#     print(roc_t['threshold'])\n",
        "    \n",
        "    print(\"Optimal cutoff point is : %f\" % roc_t['threshold'])\n",
        "    \n",
        "          "
      ]
    },
    {
      "cell_type": "code",
      "execution_count": 45,
      "metadata": {
        "id": "biHaxEkuKqbT",
        "colab": {
          "base_uri": "https://localhost:8080/",
          "height": 610
        },
        "outputId": "55aef2ec-ec1e-42ab-a0b2-3415a1bf18a9"
      },
      "outputs": [
        {
          "output_type": "display_data",
          "data": {
            "text/plain": [
              "<Figure size 432x288 with 1 Axes>"
            ],
            "image/png": "[encoded data removed]"
          },
          "metadata": {
            "needs_background": "light"
          }
        },
        {
          "output_type": "stream",
          "name": "stdout",
          "text": [
            "Area under the ROC cuve : 0.952378\n",
            "Optimal cutoff point is : 0.542092\n"
          ]
        },
        {
          "output_type": "display_data",
          "data": {
            "text/plain": [
              "<Figure size 432x288 with 1 Axes>"
            ],
            "image/png": "[encoded data removed]"
          },
          "metadata": {
            "needs_background": "light"
          }
        },
        {
          "output_type": "stream",
          "name": "stdout",
          "text": [
            "Area under the ROC cuve : 0.985405\n",
            "Optimal cutoff point is : 0.852941\n"
          ]
        }
      ],
      "source": [
        "ROCanalysis(pat_pred_tr, pat_true_tr)\n",
        "ROCanalysis(img_pred_rate_tr, img_true_tr)"
      ]
    },
    {
      "cell_type": "code",
      "execution_count": 46,
      "metadata": {
        "id": "Al04VZnRKqbU",
        "colab": {
          "base_uri": "https://localhost:8080/",
          "height": 610
        },
        "outputId": "da267d97-5fec-4753-b11e-59d2a21a3699"
      },
      "outputs": [
        {
          "output_type": "display_data",
          "data": {
            "text/plain": [
              "<Figure size 432x288 with 1 Axes>"
            ],
            "image/png": "[encoded data removed]"
          },
          "metadata": {
            "needs_background": "light"
          }
        },
        {
          "output_type": "stream",
          "name": "stdout",
          "text": [
            "Area under the ROC cuve : 0.607023\n",
            "Optimal cutoff point is : 0.367432\n"
          ]
        },
        {
          "output_type": "display_data",
          "data": {
            "text/plain": [
              "<Figure size 432x288 with 1 Axes>"
            ],
            "image/png": "[encoded data removed]"
          },
          "metadata": {
            "needs_background": "light"
          }
        },
        {
          "output_type": "stream",
          "name": "stdout",
          "text": [
            "Area under the ROC cuve : 0.874978\n",
            "Optimal cutoff point is : 0.105263\n"
          ]
        }
      ],
      "source": [
        "ROCanalysis(pat_pred_val, pat_true_val)\n",
        "ROCanalysis(img_pred_rate_val, img_true_val)"
      ]
    },
    {
      "cell_type": "code",
      "execution_count": 47,
      "metadata": {
        "id": "rIWbU_TdKqbU",
        "colab": {
          "base_uri": "https://localhost:8080/",
          "height": 610
        },
        "outputId": "2874fb8a-8298-430c-83d8-f1fef06059fa"
      },
      "outputs": [
        {
          "output_type": "display_data",
          "data": {
            "text/plain": [
              "<Figure size 432x288 with 1 Axes>"
            ],
            "image/png": "[encoded data removed]"
          },
          "metadata": {
            "needs_background": "light"
          }
        },
        {
          "output_type": "stream",
          "name": "stdout",
          "text": [
            "Area under the ROC cuve : 0.926433\n",
            "Optimal cutoff point is : 0.360323\n"
          ]
        },
        {
          "output_type": "display_data",
          "data": {
            "text/plain": [
              "<Figure size 432x288 with 1 Axes>"
            ],
            "image/png": "[encoded data removed]"
          },
          "metadata": {
            "needs_background": "light"
          }
        },
        {
          "output_type": "stream",
          "name": "stdout",
          "text": [
            "Area under the ROC cuve : 1.000000\n",
            "Optimal cutoff point is : 0.357143\n"
          ]
        }
      ],
      "source": [
        "ROCanalysis(pat_pred_test, pat_true_test)\n",
        "ROCanalysis(img_pred_rate_test, img_true_test)"
      ]
    },
    {
      "cell_type": "code",
      "execution_count": null,
      "metadata": {
        "id": "zjvp6y6ZKqbV"
      },
      "outputs": [],
      "source": []
    },
    {
      "cell_type": "code",
      "execution_count": null,
      "metadata": {
        "id": "ipFT_jXzKqbV"
      },
      "outputs": [],
      "source": []
    },
    {
      "cell_type": "code",
      "execution_count": null,
      "metadata": {
        "id": "4_B67xz_KqbV"
      },
      "outputs": [],
      "source": []
    },
    {
      "cell_type": "code",
      "execution_count": null,
      "metadata": {
        "id": "PoYpFVOBKqbW"
      },
      "outputs": [],
      "source": []
    },
    {
      "cell_type": "code",
      "execution_count": null,
      "metadata": {
        "id": "42mdcpsIKqbX"
      },
      "outputs": [],
      "source": []
    },
    {
      "cell_type": "code",
      "execution_count": null,
      "metadata": {
        "id": "c7q5ym_oKqbX"
      },
      "outputs": [],
      "source": []
    },
    {
      "cell_type": "code",
      "execution_count": null,
      "metadata": {
        "id": "lCX4HZtNKqbX"
      },
      "outputs": [],
      "source": []
    }
  ],
  "metadata": {
    "accelerator": "GPU",
    "colab": {
      "machine_shape": "hm",
      "provenance": []
    },
    "gpuClass": "premium",
    "kernelspec": {
      "display_name": "Python 3",
      "language": "python",
      "name": "python3"
    },
    "language_info": {
      "codemirror_mode": {
        "name": "ipython",
        "version": 3
      },
      "file_extension": ".py",
      "mimetype": "text/x-python",
      "name": "python",
      "nbconvert_exporter": "python",
      "pygments_lexer": "ipython3",
      "version": "3.9.12"
    }
  },
  "nbformat": 4,
  "nbformat_minor": 0
}