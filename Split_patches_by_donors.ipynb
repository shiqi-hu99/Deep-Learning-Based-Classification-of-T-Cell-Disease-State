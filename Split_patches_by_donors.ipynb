{
  "nbformat": 4,
  "nbformat_minor": 0,
  "metadata": {
    "colab": {
      "provenance": [],
      "machine_shape": "hm"
    },
    "kernelspec": {
      "name": "python3",
      "display_name": "Python 3"
    },
    "language_info": {
      "name": "python"
    },
    "gpuClass": "standard"
  },
  "cells": [
    {
      "cell_type": "code",
      "execution_count": null,
      "metadata": {
        "id": "0fyrJa1sYnsk"
      },
      "outputs": [],
      "source": [
        "#Import packages\n",
        "import numpy as np \n",
        "import pandas as pd\n",
        "import os\n",
        "import cv2\n",
        "from skimage import measure\n",
        "from glob import glob\n",
        "import imutils\n",
        "import matplotlib.pyplot as plt\n",
        "\n",
        "from imutils import contours\n",
        "from PIL import Image as Img\n",
        "from IPython.display import Image\n",
        "\n",
        "from joblib import Parallel, delayed\n",
        "from tqdm import tqdm_notebook as tqdm\n",
        "from tqdm.notebook import tqdm"
      ]
    },
    {
      "cell_type": "code",
      "source": [
        "import shutil\n",
        "import random"
      ],
      "metadata": {
        "id": "pJ35dseqmwmi"
      },
      "execution_count": null,
      "outputs": []
    },
    {
      "cell_type": "code",
      "source": [
        "#Mount to Google Drive\n",
        "from google.colab import drive\n",
        "drive.mount('/content/drive')"
      ],
      "metadata": {
        "id": "ksLBeUaWY4gV",
        "colab": {
          "base_uri": "https://localhost:8080/"
        },
        "outputId": "63c38e72-3781-416a-eb8d-4fe4824a70da"
      },
      "execution_count": null,
      "outputs": [
        {
          "output_type": "stream",
          "name": "stdout",
          "text": [
            "Drive already mounted at /content/drive; to attempt to forcibly remount, call drive.mount(\"/content/drive\", force_remount=True).\n"
          ]
        }
      ]
    },
    {
      "cell_type": "code",
      "source": [
        "ds = glob(os.path.join('/content/drive/MyDrive/DL-T Cell Segmentatiom/segmentation/raw/*.jpg'))\n",
        "print(len(ds))"
      ],
      "metadata": {
        "colab": {
          "base_uri": "https://localhost:8080/"
        },
        "id": "rjsMp1jRZiu3",
        "outputId": "79e4774e-fab4-497c-c8d9-c711a42d05e8"
      },
      "execution_count": null,
      "outputs": [
        {
          "output_type": "stream",
          "name": "stdout",
          "text": [
            "301\n"
          ]
        }
      ]
    },
    {
      "cell_type": "code",
      "source": [
        "dd = glob(os.path.join('/content/drive/MyDrive/DL-T Cell Segmentatiom/classification/raw/*.jpg'))\n",
        "print(len(dd))"
      ],
      "metadata": {
        "colab": {
          "base_uri": "https://localhost:8080/"
        },
        "id": "b_qUtBsOcukR",
        "outputId": "9505d6ca-1065-448f-8c06-0f69cd3946c5"
      },
      "execution_count": null,
      "outputs": [
        {
          "output_type": "stream",
          "name": "stdout",
          "text": [
            "308\n"
          ]
        }
      ]
    },
    {
      "cell_type": "code",
      "source": [
        "print(dd[1])"
      ],
      "metadata": {
        "colab": {
          "base_uri": "https://localhost:8080/"
        },
        "id": "O_syZoNq74qu",
        "outputId": "8097a9d1-a4b4-42fc-adac-9d65875a4439"
      },
      "execution_count": null,
      "outputs": [
        {
          "output_type": "stream",
          "name": "stdout",
          "text": [
            "/content/drive/MyDrive/DL-T Cell Segmentatiom/classification/raw/H2_20210401_10to1_40min_2_08.jpg\n"
          ]
        }
      ]
    },
    {
      "cell_type": "code",
      "source": [
        "def split_donors(filenames):\n",
        "  \"\"\"\n",
        "  this function splits the patch images by donors according to their names\n",
        "  \"\"\"\n",
        "  num = len(filenames)\n",
        "  donor_name = []\n",
        "\n",
        "\n",
        "        \n",
        "  for i in range(num):\n",
        "    curr_name = filenames[i].split('/')[-1]\n",
        "    \n",
        "    donors = curr_name.split('_')[:3]\n",
        "  \n",
        "    donor_name.append(donors)\n",
        "\n",
        "        \n",
        "  return donor_name"
      ],
      "metadata": {
        "id": "7Am9_v9QZ1Jd"
      },
      "execution_count": null,
      "outputs": []
    },
    {
      "cell_type": "code",
      "source": [
        "# dn_class = split_donors(dc)\n",
        "# dn_seg = split_donors(ds)\n",
        "dn_dd = split_donors(dd)"
      ],
      "metadata": {
        "id": "vIFhB_E_bQ4N"
      },
      "execution_count": null,
      "outputs": []
    },
    {
      "cell_type": "code",
      "source": [
        "df_dn_dd = pd.DataFrame(dn_dd, columns = ['donor name', 'date', 'stiffness'])\n",
        "df_dn_dd.value_counts()"
      ],
      "metadata": {
        "colab": {
          "base_uri": "https://localhost:8080/"
        },
        "id": "LCFlu1iNdA_p",
        "outputId": "3f844ae7-34a2-42b9-c7e0-af58dfa881d5"
      },
      "execution_count": null,
      "outputs": [
        {
          "output_type": "execute_result",
          "data": {
            "text/plain": [
              "donor name  date      stiffness\n",
              "H3          20210923  1to3         13\n",
              "            20210924  10to1        11\n",
              "LK18        20210305  3to1         11\n",
              "LK67        20210312  1to3         11\n",
              "LK51        20210319  3to1         11\n",
              "H3          20210923  3to1         11\n",
              "                      10to1        10\n",
              "LK2         20210305  1to3         10\n",
              "                      10to1        10\n",
              "LK18        20210305  1to3         10\n",
              "                      10to1        10\n",
              "H3          20210924  3to1         10\n",
              "                      1to3         10\n",
              "LK51        20210319  1to3         10\n",
              "H3          20210917  3to1         10\n",
              "LK51        20210319  10to1        10\n",
              "H3          20210917  1to3         10\n",
              "                      10to1        10\n",
              "LK63        20210319  1to3         10\n",
              "LK67        20210312  3to1         10\n",
              "H2          20210401  3to1         10\n",
              "                      1to3         10\n",
              "                      10to1        10\n",
              "LK2         20210305  3to1         10\n",
              "LK75        20210722  10to1         8\n",
              "                      1to3          8\n",
              "                      3to1          8\n",
              "H1          20210225  3to1          5\n",
              "H2          20210826  3to1          5\n",
              "                      1to3          5\n",
              "H1          20210225  10to1         5\n",
              "H2          20210827  3to1          4\n",
              "                      1to3          4\n",
              "                      10to1         4\n",
              "            20210826  10to1         4\n",
              "dtype: int64"
            ]
          },
          "metadata": {},
          "execution_count": 9
        }
      ]
    },
    {
      "cell_type": "code",
      "source": [
        "j_patch = glob(os.path.join('/content/drive/MyDrive/DL-T Cell Segmentatiom/imagej_patch_for_classification/*.jpg'))\n",
        "print(len(j_patch))"
      ],
      "metadata": {
        "colab": {
          "base_uri": "https://localhost:8080/"
        },
        "id": "myADv5H9wOlY",
        "outputId": "55120627-9a41-4325-812f-6d44928919e2"
      },
      "execution_count": null,
      "outputs": [
        {
          "output_type": "stream",
          "name": "stdout",
          "text": [
            "8699\n"
          ]
        }
      ]
    },
    {
      "cell_type": "code",
      "source": [
        "patch_status = []\n",
        "patch_id = []\n",
        "for i in range(len(j_patch)):\n",
        "  curr_status = j_patch[i].split('/')[-1][0:4]\n",
        "  patch_status.append(curr_status)\n",
        "  patch_id.append(i+1)\n"
      ],
      "metadata": {
        "id": "CYuq-FNwZKTY"
      },
      "execution_count": null,
      "outputs": []
    },
    {
      "cell_type": "code",
      "source": [
        "df = pd.DataFrame(list(zip(patch_status, patch_id)), columns =['disease', 'id'])"
      ],
      "metadata": {
        "id": "9PHWLAj2bKTo"
      },
      "execution_count": null,
      "outputs": []
    },
    {
      "cell_type": "code",
      "source": [
        "df['disease'].value_counts()"
      ],
      "metadata": {
        "colab": {
          "base_uri": "https://localhost:8080/"
        },
        "id": "OGFrcMKmflnS",
        "outputId": "95185e8e-74b5-4934-9dbd-7050b0e3dca8"
      },
      "execution_count": null,
      "outputs": [
        {
          "output_type": "execute_result",
          "data": {
            "text/plain": [
              "H3_2    2413\n",
              "H2_2    1757\n",
              "LK18    1084\n",
              "LK2_     896\n",
              "LK67     783\n",
              "LK51     777\n",
              "LK63     377\n",
              "H1_2     346\n",
              "LK75     266\n",
              "Name: disease, dtype: int64"
            ]
          },
          "metadata": {},
          "execution_count": 13
        }
      ]
    },
    {
      "cell_type": "code",
      "source": [
        "df.count()"
      ],
      "metadata": {
        "colab": {
          "base_uri": "https://localhost:8080/"
        },
        "id": "xuN5eaNuivAR",
        "outputId": "a5b75764-17d5-4f02-8378-50823aad3b9d"
      },
      "execution_count": null,
      "outputs": [
        {
          "output_type": "execute_result",
          "data": {
            "text/plain": [
              "disease    8699\n",
              "id         8699\n",
              "dtype: int64"
            ]
          },
          "metadata": {},
          "execution_count": 17
        }
      ]
    },
    {
      "cell_type": "markdown",
      "source": [
        "Now find the filename indexes for each category respectively"
      ],
      "metadata": {
        "id": "35Brn5o5juln"
      }
    },
    {
      "cell_type": "code",
      "source": [
        "lk2_idx = np.array(df.loc[df['disease'] == 'LK2_', 'id'])-1\n",
        "lk18_idx = np.array(df.loc[df['disease'] == 'LK18', 'id'])-1\n",
        "lk51_idx = np.array(df.loc[df['disease'] == 'LK51', 'id'])-1\n",
        "lk63_idx = np.array(df.loc[df['disease'] == 'LK63', 'id'])-1\n",
        "lk67_idx = np.array(df.loc[df['disease'] == 'LK67', 'id'])-1\n",
        "lk75_idx = np.array(df.loc[df['disease'] == 'LK75', 'id'])-1\n",
        "h1_idx = np.array(df.loc[df['disease'] == 'H1_2', 'id'])-1\n",
        "h2_idx = np.array(df.loc[df['disease'] == 'H2_2', 'id'])-1\n",
        "h3_idx = np.array(df.loc[df['disease'] == 'H3_2', 'id'])-1"
      ],
      "metadata": {
        "id": "s-K7v3nIjuF9"
      },
      "execution_count": null,
      "outputs": []
    },
    {
      "cell_type": "code",
      "source": [
        "def copy_files(fnames, idx_list, dst):\n",
        "  \"\"\"\n",
        "  this function copy and paste images to the new directory according to the input image filenames\n",
        "  \"\"\"\n",
        "  for i in range(len(idx_list)):\n",
        "      old_name = fnames[idx_list[i]].split('/')[-1]\n",
        "      new_dst = dst + old_name\n",
        "      shutil.copyfile(fnames[idx_list[i]], new_dst)"
      ],
      "metadata": {
        "id": "YWdDbwrNkzov"
      },
      "execution_count": null,
      "outputs": []
    },
    {
      "cell_type": "code",
      "source": [
        "import os\n",
        "os.chdir('/content/drive/MyDrive/DL-T Cell Segmentatiom/')\n",
        "list_set = os.listdir()\n",
        "# print((list_set))\n",
        "# if list_set[9][-4:] == '.jpg':\n",
        "#   print(1)\n",
        "\n",
        "for i in list_set:\n",
        "  if i[-4:] == '.jpg':\n",
        "    os.remove(i)"
      ],
      "metadata": {
        "id": "50wFzSibjugu"
      },
      "execution_count": null,
      "outputs": []
    },
    {
      "cell_type": "code",
      "source": [
        "# h1_dst = '/content/drive/MyDrive/DL-T Cell Segmentatiom/H1/'\n",
        "# copy_files(j_patch, h1_idx, h1_dst)"
      ],
      "metadata": {
        "id": "H5l5c7lHnSVv"
      },
      "execution_count": null,
      "outputs": []
    },
    {
      "cell_type": "code",
      "source": [
        "H1_filenames = glob(os.path.join('/content/drive/MyDrive/DL-T Cell Segmentatiom/H1/*.jpg'))\n",
        "print(len(H1_filenames))"
      ],
      "metadata": {
        "colab": {
          "base_uri": "https://localhost:8080/"
        },
        "id": "QqC6TKJiimjE",
        "outputId": "8269d5f0-db22-4d0c-f2d1-198de9a3c013"
      },
      "execution_count": null,
      "outputs": [
        {
          "output_type": "stream",
          "name": "stdout",
          "text": [
            "346\n"
          ]
        }
      ]
    },
    {
      "cell_type": "code",
      "source": [
        "patch_YM = []\n",
        "patch_idd = []\n",
        "for i in range(len(H1_filenames)):\n",
        "  curr_status = H1_filenames[i].split('/')[-1].split('_')[2]\n",
        "  patch_YM.append(curr_status)\n",
        "  patch_idd.append(i+1)\n",
        "\n",
        "\n",
        "df_H1 = pd.DataFrame(list(zip(patch_YM, patch_idd)), columns =['stiffness', 'id'])\n",
        "df_H1\n",
        "# lk2_idx = np.array(df.loc[df_H1['disease'] == 'LK2_', 'id'])-1\n",
        "h1_idd = np.array(df_H1.loc[df_H1['stiffness'] == '10to1', 'id'])-1"
      ],
      "metadata": {
        "id": "ecAGMOjclmxM"
      },
      "execution_count": null,
      "outputs": []
    },
    {
      "cell_type": "code",
      "source": [
        "h1_dst = '/content/drive/MyDrive/DL-T Cell Segmentatiom/H1_10to1/'\n",
        "copy_files(H1_filenames, h1_idd, h1_dst)"
      ],
      "metadata": {
        "id": "vCjRPSMS9YXZ"
      },
      "execution_count": null,
      "outputs": []
    },
    {
      "cell_type": "code",
      "source": [
        "h1_10to1 = glob(os.path.join('/content/drive/MyDrive/DL-T Cell Segmentatiom/H1_10to1/*.jpg'))\n",
        "print(len(h1_10to1))"
      ],
      "metadata": {
        "colab": {
          "base_uri": "https://localhost:8080/"
        },
        "id": "jUiJUtkn-QVG",
        "outputId": "29eabb7f-9ccc-48f7-aff3-1ec461eda90c"
      },
      "execution_count": null,
      "outputs": [
        {
          "output_type": "stream",
          "name": "stdout",
          "text": [
            "159\n"
          ]
        }
      ]
    },
    {
      "cell_type": "code",
      "source": [
        "# h2_dst = '/content/drive/MyDrive/DL-T Cell Segmentatiom/H2/'\n",
        "# copy_files(j_patch, h2_idx, h2_dst)"
      ],
      "metadata": {
        "id": "KQHL8uhlrUQK"
      },
      "execution_count": null,
      "outputs": []
    },
    {
      "cell_type": "code",
      "source": [
        "H2_filenames = glob(os.path.join('/content/drive/MyDrive/DL-T Cell Segmentatiom/H2/*.jpg'))\n",
        "print(len(H2_filenames))"
      ],
      "metadata": {
        "colab": {
          "base_uri": "https://localhost:8080/"
        },
        "id": "mLr1DmFpAM4I",
        "outputId": "86bc4619-8df8-4757-dc67-79cc4b2c0857"
      },
      "execution_count": null,
      "outputs": [
        {
          "output_type": "stream",
          "name": "stdout",
          "text": [
            "1757\n"
          ]
        }
      ]
    },
    {
      "cell_type": "code",
      "source": [
        "patch_YM = []\n",
        "patch_idd = []\n",
        "for i in range(len(H2_filenames)):\n",
        "  curr_status = H2_filenames[i].split('/')[-1].split('_')[2]\n",
        "  patch_YM.append(curr_status)\n",
        "  patch_idd.append(i+1)\n",
        "\n",
        "\n",
        "df_H2 = pd.DataFrame(list(zip(patch_YM, patch_idd)), columns =['stiffness', 'id'])\n",
        "df_H2\n",
        "h2_idd = np.array(df_H2.loc[df_H2['stiffness'] == '10to1', 'id'])-1\n",
        "\n",
        "h2_dst = '/content/drive/MyDrive/DL-T Cell Segmentatiom/H2_10to1/'\n",
        "copy_files(H2_filenames, h2_idd, h2_dst)"
      ],
      "metadata": {
        "id": "eGu6qxeq_kq2"
      },
      "execution_count": null,
      "outputs": []
    },
    {
      "cell_type": "code",
      "source": [
        "h2_10to1 = glob(os.path.join('/content/drive/MyDrive/DL-T Cell Segmentatiom/H2_10to1/*.jpg'))\n",
        "print(len(h2_10to1))"
      ],
      "metadata": {
        "colab": {
          "base_uri": "https://localhost:8080/"
        },
        "id": "cIM-d3b6_1mB",
        "outputId": "8753d4ad-fbe8-43bd-c7e5-40554cbe40ae"
      },
      "execution_count": null,
      "outputs": [
        {
          "output_type": "stream",
          "name": "stdout",
          "text": [
            "494\n"
          ]
        }
      ]
    },
    {
      "cell_type": "code",
      "source": [
        "# h3_dst = '/content/drive/MyDrive/DL-T Cell Segmentatiom/H3/'\n",
        "# copy_files(j_patch, h3_idx, h3_dst)"
      ],
      "metadata": {
        "id": "EheWUOAvrX7f"
      },
      "execution_count": null,
      "outputs": []
    },
    {
      "cell_type": "code",
      "source": [
        "H3_filenames = glob(os.path.join('/content/drive/MyDrive/DL-T Cell Segmentatiom/H3/*.jpg'))\n",
        "print(len(H3_filenames))"
      ],
      "metadata": {
        "colab": {
          "base_uri": "https://localhost:8080/"
        },
        "id": "fWdU52hwCjJc",
        "outputId": "46980060-f8a1-43da-b5ac-422f6303349d"
      },
      "execution_count": null,
      "outputs": [
        {
          "output_type": "stream",
          "name": "stdout",
          "text": [
            "2413\n"
          ]
        }
      ]
    },
    {
      "cell_type": "code",
      "source": [
        "patch_YM = []\n",
        "patch_idd = []\n",
        "for i in range(len(H3_filenames)):\n",
        "  curr_status = H3_filenames[i].split('/')[-1].split('_')[2]\n",
        "  patch_YM.append(curr_status)\n",
        "  patch_idd.append(i+1)\n",
        "\n",
        "\n",
        "df_H3 = pd.DataFrame(list(zip(patch_YM, patch_idd)), columns =['stiffness', 'id'])\n",
        "df_H3\n",
        "h3_idd = np.array(df_H3.loc[df_H3['stiffness'] == '10to1', 'id'])-1\n",
        "\n",
        "h3_dst = '/content/drive/MyDrive/DL-T Cell Segmentatiom/H3_10to1/'\n",
        "copy_files(H3_filenames, h3_idd, h3_dst)"
      ],
      "metadata": {
        "id": "7TslRndKCqWX"
      },
      "execution_count": null,
      "outputs": []
    },
    {
      "cell_type": "code",
      "source": [
        "h3_10to1 = glob(os.path.join('/content/drive/MyDrive/DL-T Cell Segmentatiom/H3_10to1/*.jpg'))\n",
        "print(len(h3_10to1))"
      ],
      "metadata": {
        "colab": {
          "base_uri": "https://localhost:8080/"
        },
        "id": "N1602xRKC3F9",
        "outputId": "11a691af-86dd-4ee6-82f8-81714bd875a4"
      },
      "execution_count": null,
      "outputs": [
        {
          "output_type": "stream",
          "name": "stdout",
          "text": [
            "747\n"
          ]
        }
      ]
    },
    {
      "cell_type": "code",
      "source": [
        "lk2_dst = '/content/drive/MyDrive/DL-T Cell Segmentatiom/LK2/'\n",
        "copy_files(j_patch, lk2_idx, lk2_dst)"
      ],
      "metadata": {
        "id": "KI0CP1OYrn1u"
      },
      "execution_count": null,
      "outputs": []
    },
    {
      "cell_type": "code",
      "source": [
        "LK2_filenames = glob(os.path.join('/content/drive/MyDrive/DL-T Cell Segmentatiom/LK2/*.jpg'))\n",
        "print(len(LK2_filenames))"
      ],
      "metadata": {
        "colab": {
          "base_uri": "https://localhost:8080/"
        },
        "id": "CxksJ6IQDrd0",
        "outputId": "40bc2c96-489f-4f25-a0f8-5c999eaeb053"
      },
      "execution_count": null,
      "outputs": [
        {
          "output_type": "stream",
          "name": "stdout",
          "text": [
            "896\n"
          ]
        }
      ]
    },
    {
      "cell_type": "code",
      "source": [
        "patch_YM = []\n",
        "patch_idd = []\n",
        "for i in range(len(LK2_filenames)):\n",
        "  curr_status = LK2_filenames[i].split('/')[-1].split('_')[2]\n",
        "  patch_YM.append(curr_status)\n",
        "  patch_idd.append(i+1)\n",
        "\n",
        "\n",
        "df_LK2 = pd.DataFrame(list(zip(patch_YM, patch_idd)), columns =['stiffness', 'id'])\n",
        "df_LK2\n",
        "lk2_idd = np.array(df_LK2.loc[df_LK2['stiffness'] == '10to1', 'id'])-1\n",
        "\n",
        "lk2_dst = '/content/drive/MyDrive/DL-T Cell Segmentatiom/LK2_10to1/'\n",
        "copy_files(LK2_filenames, lk2_idd, lk2_dst)"
      ],
      "metadata": {
        "id": "aFB8qfZXEETq"
      },
      "execution_count": null,
      "outputs": []
    },
    {
      "cell_type": "code",
      "source": [
        "lk2_10to1 = glob(os.path.join('/content/drive/MyDrive/DL-T Cell Segmentatiom/LK2_10to1/*.jpg'))\n",
        "print(len(lk2_10to1))"
      ],
      "metadata": {
        "colab": {
          "base_uri": "https://localhost:8080/"
        },
        "id": "9-yOE0L8EIzG",
        "outputId": "5252d403-4a23-4075-afa6-db03ee752c16"
      },
      "execution_count": null,
      "outputs": [
        {
          "output_type": "stream",
          "name": "stdout",
          "text": [
            "227\n"
          ]
        }
      ]
    },
    {
      "cell_type": "code",
      "source": [
        "lk18_dst = '/content/drive/MyDrive/DL-T Cell Segmentatiom/LK18/'\n",
        "copy_files(j_patch, lk18_idx, lk18_dst)"
      ],
      "metadata": {
        "id": "SaitlS5QFXkc"
      },
      "execution_count": null,
      "outputs": []
    },
    {
      "cell_type": "code",
      "source": [
        "LK18_filenames = glob(os.path.join('/content/drive/MyDrive/DL-T Cell Segmentatiom/LK18/*.jpg'))\n",
        "print(len(LK18_filenames))"
      ],
      "metadata": {
        "colab": {
          "base_uri": "https://localhost:8080/"
        },
        "id": "PgtQm7a_D_CJ",
        "outputId": "717440a0-865d-46fa-ff8a-579991940649"
      },
      "execution_count": null,
      "outputs": [
        {
          "output_type": "stream",
          "name": "stdout",
          "text": [
            "1084\n"
          ]
        }
      ]
    },
    {
      "cell_type": "code",
      "source": [
        "patch_YM = []\n",
        "patch_idd = []\n",
        "for i in range(len(LK18_filenames)):\n",
        "  curr_status = LK18_filenames[i].split('/')[-1].split('_')[2]\n",
        "  patch_YM.append(curr_status)\n",
        "  patch_idd.append(i+1)\n",
        "\n",
        "\n",
        "df_LK18 = pd.DataFrame(list(zip(patch_YM, patch_idd)), columns =['stiffness', 'id'])\n",
        "df_LK18\n",
        "lk18_idd = np.array(df_LK18.loc[df_LK18['stiffness'] == '10to1', 'id'])-1\n",
        "\n",
        "lk18_dst = '/content/drive/MyDrive/DL-T Cell Segmentatiom/LK18_10to1/'\n",
        "copy_files(LK18_filenames, lk18_idd, lk18_dst)"
      ],
      "metadata": {
        "id": "1FrWCStkEfJF"
      },
      "execution_count": null,
      "outputs": []
    },
    {
      "cell_type": "code",
      "source": [
        "lk18_10to1 = glob(os.path.join('/content/drive/MyDrive/DL-T Cell Segmentatiom/LK18_10to1/*.jpg'))\n",
        "print(len(lk18_10to1))"
      ],
      "metadata": {
        "colab": {
          "base_uri": "https://localhost:8080/"
        },
        "id": "pdu5Yq5yEshU",
        "outputId": "c940af3a-28dc-4517-8ec5-887f9e90c3e8"
      },
      "execution_count": null,
      "outputs": [
        {
          "output_type": "stream",
          "name": "stdout",
          "text": [
            "321\n"
          ]
        }
      ]
    },
    {
      "cell_type": "code",
      "source": [
        "lk51_dst = '/content/drive/MyDrive/DL-T Cell Segmentatiom/LK51/'\n",
        "copy_files(j_patch, lk51_idx, lk51_dst)"
      ],
      "metadata": {
        "id": "PN4JRLxSF_4B"
      },
      "execution_count": null,
      "outputs": []
    },
    {
      "cell_type": "code",
      "source": [
        "LK51_filenames = glob(os.path.join('/content/drive/MyDrive/DL-T Cell Segmentatiom/LK51/*.jpg'))\n",
        "print(len(LK51_filenames))"
      ],
      "metadata": {
        "colab": {
          "base_uri": "https://localhost:8080/"
        },
        "id": "QjbHIyZ4Fal-",
        "outputId": "2b789d53-c58b-4e14-c07b-394a4f8578ca"
      },
      "execution_count": null,
      "outputs": [
        {
          "output_type": "stream",
          "name": "stdout",
          "text": [
            "777\n"
          ]
        }
      ]
    },
    {
      "cell_type": "code",
      "source": [
        "patch_YM = []\n",
        "patch_idd = []\n",
        "for i in range(len(LK51_filenames)):\n",
        "  curr_status = LK51_filenames[i].split('/')[-1].split('_')[2]\n",
        "  patch_YM.append(curr_status)\n",
        "  patch_idd.append(i+1)\n",
        "\n",
        "\n",
        "df_LK51 = pd.DataFrame(list(zip(patch_YM, patch_idd)), columns =['stiffness', 'id'])\n",
        "df_LK51\n",
        "lk51_idd = np.array(df_LK51.loc[df_LK51['stiffness'] == '10to1', 'id'])-1\n",
        "\n",
        "lk51_dst = '/content/drive/MyDrive/DL-T Cell Segmentatiom/LK51_10to1/'\n",
        "copy_files(LK51_filenames, lk51_idd, lk51_dst)"
      ],
      "metadata": {
        "id": "6jaIQzUyFgQW"
      },
      "execution_count": null,
      "outputs": []
    },
    {
      "cell_type": "code",
      "source": [
        "lk51_10to1 = glob(os.path.join('/content/drive/MyDrive/DL-T Cell Segmentatiom/LK51_10to1/*.jpg'))\n",
        "print(len(lk51_10to1))"
      ],
      "metadata": {
        "colab": {
          "base_uri": "https://localhost:8080/"
        },
        "id": "A0B6Azu-FtQV",
        "outputId": "b3c6c424-f5e0-444e-861b-b946103a3cd6"
      },
      "execution_count": null,
      "outputs": [
        {
          "output_type": "stream",
          "name": "stdout",
          "text": [
            "246\n"
          ]
        }
      ]
    },
    {
      "cell_type": "code",
      "source": [
        "lk75_dst = '/content/drive/MyDrive/DL-T Cell Segmentatiom/LK75/'\n",
        "copy_files(j_patch, lk75_idx, lk75_dst)"
      ],
      "metadata": {
        "id": "D-7jnQJoGP06"
      },
      "execution_count": null,
      "outputs": []
    },
    {
      "cell_type": "code",
      "source": [
        "LK75_filenames = glob(os.path.join('/content/drive/MyDrive/DL-T Cell Segmentatiom/LK75/*.jpg'))\n",
        "print(len(LK75_filenames))"
      ],
      "metadata": {
        "colab": {
          "base_uri": "https://localhost:8080/"
        },
        "id": "B5LerWBvFyxm",
        "outputId": "11331260-e336-4f2b-9fd5-0f979acb29ae"
      },
      "execution_count": null,
      "outputs": [
        {
          "output_type": "stream",
          "name": "stdout",
          "text": [
            "266\n"
          ]
        }
      ]
    },
    {
      "cell_type": "code",
      "source": [
        "patch_YM = []\n",
        "patch_idd = []\n",
        "for i in range(len(LK75_filenames)):\n",
        "  curr_status = LK75_filenames[i].split('/')[-1].split('_')[2]\n",
        "  patch_YM.append(curr_status)\n",
        "  patch_idd.append(i+1)\n",
        "\n",
        "\n",
        "df_LK75 = pd.DataFrame(list(zip(patch_YM, patch_idd)), columns =['stiffness', 'id'])\n",
        "df_LK75\n",
        "lk75_idd = np.array(df_LK75.loc[df_LK75['stiffness'] == '10to1', 'id'])-1\n",
        "\n",
        "lk75_dst = '/content/drive/MyDrive/DL-T Cell Segmentatiom/LK75_10to1/'\n",
        "copy_files(LK75_filenames, lk75_idd, lk75_dst)"
      ],
      "metadata": {
        "id": "8y6Yq4ORF1EP"
      },
      "execution_count": null,
      "outputs": []
    },
    {
      "cell_type": "code",
      "source": [
        "lk75_10to1 = glob(os.path.join('/content/drive/MyDrive/DL-T Cell Segmentatiom/LK75_10to1/*.jpg'))\n",
        "print(len(lk75_10to1))"
      ],
      "metadata": {
        "colab": {
          "base_uri": "https://localhost:8080/"
        },
        "id": "jWaYwyiaF4Yu",
        "outputId": "da2bc29a-5d70-406e-cd56-197fe7ba4a4f"
      },
      "execution_count": null,
      "outputs": [
        {
          "output_type": "stream",
          "name": "stdout",
          "text": [
            "94\n"
          ]
        }
      ]
    },
    {
      "cell_type": "code",
      "source": [
        "new_path = '/content/drive/MyDrive/DL-T Cell Segmentatiom/tr_val_test_1donor/train/0/'\n",
        "copy_files(h3_10to1, list(range(300)), new_path)"
      ],
      "metadata": {
        "id": "mKT3Zc0nHR6I"
      },
      "execution_count": null,
      "outputs": []
    },
    {
      "cell_type": "code",
      "source": [
        "train_0 = glob(os.path.join('/content/drive/MyDrive/DL-T Cell Segmentatiom/tr_val_test_1donor/train/0/*.jpg'))\n",
        "print(len(train_0))"
      ],
      "metadata": {
        "colab": {
          "base_uri": "https://localhost:8080/"
        },
        "id": "6XxbTm-ISzz0",
        "outputId": "7d185852-5535-4728-b2b4-3f5897a8c890"
      },
      "execution_count": null,
      "outputs": [
        {
          "output_type": "stream",
          "name": "stdout",
          "text": [
            "300\n"
          ]
        }
      ]
    },
    {
      "cell_type": "code",
      "source": [
        "new_path = '/content/drive/MyDrive/DL-T Cell Segmentatiom/tr_val_test_1donor/train/1/'\n",
        "copy_files(lk18_10to1, list(range(300)), new_path)"
      ],
      "metadata": {
        "id": "BFosznWXJj3E"
      },
      "execution_count": null,
      "outputs": []
    },
    {
      "cell_type": "code",
      "source": [
        "train_1 = glob(os.path.join('/content/drive/MyDrive/DL-T Cell Segmentatiom/tr_val_test_1donor/train/1/*.jpg'))\n",
        "print(len(train_1))"
      ],
      "metadata": {
        "colab": {
          "base_uri": "https://localhost:8080/"
        },
        "id": "olm_6YdyTBIz",
        "outputId": "0c807ab8-adbf-4571-dd51-8d9e0d8b6fdb"
      },
      "execution_count": null,
      "outputs": [
        {
          "output_type": "stream",
          "name": "stdout",
          "text": [
            "300\n"
          ]
        }
      ]
    },
    {
      "cell_type": "code",
      "source": [
        "new_path = '/content/drive/MyDrive/DL-T Cell Segmentatiom/tr_val_test_1donor/val/0/'\n",
        "copy_files(h2_10to1, list(range(200)), new_path)"
      ],
      "metadata": {
        "id": "tq59OPCIJZzO"
      },
      "execution_count": null,
      "outputs": []
    },
    {
      "cell_type": "code",
      "source": [
        "val_0 = glob(os.path.join('/content/drive/MyDrive/DL-T Cell Segmentatiom/tr_val_test_1donor/val/0/*.jpg'))\n",
        "print(len(val_0))"
      ],
      "metadata": {
        "colab": {
          "base_uri": "https://localhost:8080/"
        },
        "id": "5jMMi2aDTCEz",
        "outputId": "e5b65e54-f9df-4283-adfc-39d98b1ee382"
      },
      "execution_count": null,
      "outputs": [
        {
          "output_type": "stream",
          "name": "stdout",
          "text": [
            "200\n"
          ]
        }
      ]
    },
    {
      "cell_type": "code",
      "source": [
        "new_path = '/content/drive/MyDrive/DL-T Cell Segmentatiom/tr_val_test_1donor/val/1/'\n",
        "copy_files(lk51_10to1, list(range(200)), new_path)"
      ],
      "metadata": {
        "id": "ft0zPEu6J-GM"
      },
      "execution_count": null,
      "outputs": []
    },
    {
      "cell_type": "code",
      "source": [
        "val_1 = glob(os.path.join('/content/drive/MyDrive/DL-T Cell Segmentatiom/tr_val_test_1donor/val/1/*.jpg'))\n",
        "print(len(val_1))"
      ],
      "metadata": {
        "colab": {
          "base_uri": "https://localhost:8080/"
        },
        "id": "wGnDa9VBTKtx",
        "outputId": "079bfc1a-8001-4ff6-84bd-94b452a3a775"
      },
      "execution_count": null,
      "outputs": [
        {
          "output_type": "stream",
          "name": "stdout",
          "text": [
            "200\n"
          ]
        }
      ]
    },
    {
      "cell_type": "code",
      "source": [
        "new_path = '/content/drive/MyDrive/DL-T Cell Segmentatiom/tr_val_test_2donor/test/0/'\n",
        "copy_files(h1_10to1, list(range(100)), new_path)"
      ],
      "metadata": {
        "id": "x2yPTI-uJ95T"
      },
      "execution_count": null,
      "outputs": []
    },
    {
      "cell_type": "code",
      "source": [
        "test_0 = glob(os.path.join('/content/drive/MyDrive/DL-T Cell Segmentatiom/tr_val_test_2donor/test/0/*.jpg'))\n",
        "print(len(test_0))"
      ],
      "metadata": {
        "colab": {
          "base_uri": "https://localhost:8080/"
        },
        "id": "GLNrGvsoTWZx",
        "outputId": "fe3e81c9-81c0-4fed-9634-837641b33ebe"
      },
      "execution_count": null,
      "outputs": [
        {
          "output_type": "stream",
          "name": "stdout",
          "text": [
            "100\n"
          ]
        }
      ]
    },
    {
      "cell_type": "code",
      "source": [
        "new_path = '/content/drive/MyDrive/DL-T Cell Segmentatiom/tr_val_test_2donor/test/1/'\n",
        "copy_files(lk75_10to1, list(range(100)), new_path)"
      ],
      "metadata": {
        "id": "demZAf0gJ9rn",
        "colab": {
          "base_uri": "https://localhost:8080/",
          "height": 308
        },
        "outputId": "3b8011d3-7973-4476-f182-6f39433d0a6e"
      },
      "execution_count": null,
      "outputs": [
        {
          "output_type": "error",
          "ename": "IndexError",
          "evalue": "ignored",
          "traceback": [
            "\u001b[0;31m---------------------------------------------------------------------------\u001b[0m",
            "\u001b[0;31mIndexError\u001b[0m                                Traceback (most recent call last)",
            "\u001b[0;32m<ipython-input-20-658f35525157>\u001b[0m in \u001b[0;36m<module>\u001b[0;34m\u001b[0m\n\u001b[1;32m      1\u001b[0m \u001b[0mnew_path\u001b[0m \u001b[0;34m=\u001b[0m \u001b[0;34m'/content/drive/MyDrive/DL-T Cell Segmentatiom/tr_val_test_2donor/test/1/'\u001b[0m\u001b[0;34m\u001b[0m\u001b[0;34m\u001b[0m\u001b[0m\n\u001b[0;32m----> 2\u001b[0;31m \u001b[0mcopy_files\u001b[0m\u001b[0;34m(\u001b[0m\u001b[0mlk75_10to1\u001b[0m\u001b[0;34m,\u001b[0m \u001b[0mlist\u001b[0m\u001b[0;34m(\u001b[0m\u001b[0mrange\u001b[0m\u001b[0;34m(\u001b[0m\u001b[0;36m100\u001b[0m\u001b[0;34m)\u001b[0m\u001b[0;34m)\u001b[0m\u001b[0;34m,\u001b[0m \u001b[0mnew_path\u001b[0m\u001b[0;34m)\u001b[0m\u001b[0;34m\u001b[0m\u001b[0;34m\u001b[0m\u001b[0m\n\u001b[0m",
            "\u001b[0;32m<ipython-input-17-f00149f3765c>\u001b[0m in \u001b[0;36mcopy_files\u001b[0;34m(fnames, idx_list, dst)\u001b[0m\n\u001b[1;32m      4\u001b[0m   \"\"\"\n\u001b[1;32m      5\u001b[0m   \u001b[0;32mfor\u001b[0m \u001b[0mi\u001b[0m \u001b[0;32min\u001b[0m \u001b[0mrange\u001b[0m\u001b[0;34m(\u001b[0m\u001b[0mlen\u001b[0m\u001b[0;34m(\u001b[0m\u001b[0midx_list\u001b[0m\u001b[0;34m)\u001b[0m\u001b[0;34m)\u001b[0m\u001b[0;34m:\u001b[0m\u001b[0;34m\u001b[0m\u001b[0;34m\u001b[0m\u001b[0m\n\u001b[0;32m----> 6\u001b[0;31m       \u001b[0mold_name\u001b[0m \u001b[0;34m=\u001b[0m \u001b[0mfnames\u001b[0m\u001b[0;34m[\u001b[0m\u001b[0midx_list\u001b[0m\u001b[0;34m[\u001b[0m\u001b[0mi\u001b[0m\u001b[0;34m]\u001b[0m\u001b[0;34m]\u001b[0m\u001b[0;34m.\u001b[0m\u001b[0msplit\u001b[0m\u001b[0;34m(\u001b[0m\u001b[0;34m'/'\u001b[0m\u001b[0;34m)\u001b[0m\u001b[0;34m[\u001b[0m\u001b[0;34m-\u001b[0m\u001b[0;36m1\u001b[0m\u001b[0;34m]\u001b[0m\u001b[0;34m\u001b[0m\u001b[0;34m\u001b[0m\u001b[0m\n\u001b[0m\u001b[1;32m      7\u001b[0m       \u001b[0mnew_dst\u001b[0m \u001b[0;34m=\u001b[0m \u001b[0mdst\u001b[0m \u001b[0;34m+\u001b[0m \u001b[0mold_name\u001b[0m\u001b[0;34m\u001b[0m\u001b[0;34m\u001b[0m\u001b[0m\n\u001b[1;32m      8\u001b[0m       \u001b[0mshutil\u001b[0m\u001b[0;34m.\u001b[0m\u001b[0mcopyfile\u001b[0m\u001b[0;34m(\u001b[0m\u001b[0mfnames\u001b[0m\u001b[0;34m[\u001b[0m\u001b[0midx_list\u001b[0m\u001b[0;34m[\u001b[0m\u001b[0mi\u001b[0m\u001b[0;34m]\u001b[0m\u001b[0;34m]\u001b[0m\u001b[0;34m,\u001b[0m \u001b[0mnew_dst\u001b[0m\u001b[0;34m)\u001b[0m\u001b[0;34m\u001b[0m\u001b[0;34m\u001b[0m\u001b[0m\n",
            "\u001b[0;31mIndexError\u001b[0m: list index out of range"
          ]
        }
      ]
    },
    {
      "cell_type": "code",
      "source": [
        "test_1 = glob(os.path.join('/content/drive/MyDrive/DL-T Cell Segmentatiom/tr_val_test_2donor/test/1/*.jpg'))\n",
        "print(len(test_1))"
      ],
      "metadata": {
        "colab": {
          "base_uri": "https://localhost:8080/"
        },
        "id": "VK2WYxBqTW3p",
        "outputId": "f6c84bb0-b179-426e-e9ee-e41a5cfc17b2"
      },
      "execution_count": null,
      "outputs": [
        {
          "output_type": "stream",
          "name": "stdout",
          "text": [
            "94\n"
          ]
        }
      ]
    }
  ]
}